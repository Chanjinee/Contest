{
 "cells": [
  {
   "cell_type": "markdown",
   "id": "0c08e617",
   "metadata": {},
   "source": [
    "## Module import "
   ]
  },
  {
   "cell_type": "code",
   "execution_count": 1,
   "id": "1134268d",
   "metadata": {},
   "outputs": [
    {
     "name": "stdout",
     "output_type": "stream",
     "text": [
      "pandas : 1.3.2\n",
      "numpy : 1.19.5\n",
      "pycaret : 2.3.3\n",
      "Python 3.8.8\n"
     ]
    }
   ],
   "source": [
    "#### 전처리\n",
    "import pandas as pd\n",
    "import numpy as np\n",
    "# Scailing\n",
    "from sklearn.preprocessing import PowerTransformer\n",
    "#PCA\n",
    "from sklearn.decomposition import PCA\n",
    "#### Modeling\n",
    "from pycaret.regression  import *\n",
    "\n",
    "# 버전 확인\n",
    "print('pandas : %s'%(pd.__version__))\n",
    "print('numpy : %s'%(np.__version__))\n",
    "print('pycaret : %s'%(pycaret.__version__))\n",
    "\n",
    "!python --version"
   ]
  },
  {
   "cell_type": "markdown",
   "id": "82fb57cb",
   "metadata": {},
   "source": [
    "## data 불러오기"
   ]
  },
  {
   "cell_type": "code",
   "execution_count": 2,
   "id": "0efe807b",
   "metadata": {},
   "outputs": [],
   "source": [
    "# 데이터가 저장된 경로 설정\n",
    "data_path = '../data/'\n",
    "\n",
    "# 데이터 불러오기\n",
    "train = pd.read_csv(data_path + 'train_df.csv', encoding='cp949')\n",
    "test = pd.read_csv(data_path + 'test_df.csv', encoding='cp949')\n",
    "submission = pd.read_csv(data_path + 'sample_submission.csv')"
   ]
  },
  {
   "cell_type": "markdown",
   "id": "17cb90da",
   "metadata": {},
   "source": [
    "### 전처리"
   ]
  },
  {
   "cell_type": "code",
   "execution_count": 3,
   "id": "e10ea124",
   "metadata": {
    "scrolled": false
   },
   "outputs": [
    {
     "data": {
      "text/html": [
       "<div>\n",
       "<style scoped>\n",
       "    .dataframe tbody tr th:only-of-type {\n",
       "        vertical-align: middle;\n",
       "    }\n",
       "\n",
       "    .dataframe tbody tr th {\n",
       "        vertical-align: top;\n",
       "    }\n",
       "\n",
       "    .dataframe thead th {\n",
       "        text-align: right;\n",
       "    }\n",
       "</style>\n",
       "<table border=\"1\" class=\"dataframe\">\n",
       "  <thead>\n",
       "    <tr style=\"text-align: right;\">\n",
       "      <th></th>\n",
       "      <th>index</th>\n",
       "      <th>SEND_SPG_INNB</th>\n",
       "      <th>REC_SPG_INNB</th>\n",
       "      <th>DL_GD_LCLS_NM</th>\n",
       "      <th>DL_GD_MCLS_NM</th>\n",
       "      <th>INVC_CONT</th>\n",
       "    </tr>\n",
       "  </thead>\n",
       "  <tbody>\n",
       "    <tr>\n",
       "      <th>0</th>\n",
       "      <td>0</td>\n",
       "      <td>1129000014045300</td>\n",
       "      <td>5011000220046300</td>\n",
       "      <td>패션의류</td>\n",
       "      <td>상의</td>\n",
       "      <td>3.0</td>\n",
       "    </tr>\n",
       "    <tr>\n",
       "      <th>1</th>\n",
       "      <td>1</td>\n",
       "      <td>1135000009051200</td>\n",
       "      <td>5011000178037300</td>\n",
       "      <td>생활/건강</td>\n",
       "      <td>반려동물</td>\n",
       "      <td>3.0</td>\n",
       "    </tr>\n",
       "    <tr>\n",
       "      <th>2</th>\n",
       "      <td>2</td>\n",
       "      <td>1135000030093100</td>\n",
       "      <td>5011000265091400</td>\n",
       "      <td>패션의류</td>\n",
       "      <td>기타패션의류</td>\n",
       "      <td>9.0</td>\n",
       "    </tr>\n",
       "    <tr>\n",
       "      <th>3</th>\n",
       "      <td>3</td>\n",
       "      <td>1154500002014200</td>\n",
       "      <td>5011000315087400</td>\n",
       "      <td>식품</td>\n",
       "      <td>농산물</td>\n",
       "      <td>10.0</td>\n",
       "    </tr>\n",
       "    <tr>\n",
       "      <th>4</th>\n",
       "      <td>4</td>\n",
       "      <td>1165000021008300</td>\n",
       "      <td>5011000177051200</td>\n",
       "      <td>식품</td>\n",
       "      <td>가공식품</td>\n",
       "      <td>3.0</td>\n",
       "    </tr>\n",
       "    <tr>\n",
       "      <th>...</th>\n",
       "      <td>...</td>\n",
       "      <td>...</td>\n",
       "      <td>...</td>\n",
       "      <td>...</td>\n",
       "      <td>...</td>\n",
       "      <td>...</td>\n",
       "    </tr>\n",
       "    <tr>\n",
       "      <th>36635</th>\n",
       "      <td>36635</td>\n",
       "      <td>5013000858004400</td>\n",
       "      <td>4725000719072200</td>\n",
       "      <td>식품</td>\n",
       "      <td>농산물</td>\n",
       "      <td>NaN</td>\n",
       "    </tr>\n",
       "    <tr>\n",
       "      <th>36636</th>\n",
       "      <td>36636</td>\n",
       "      <td>5013000870018300</td>\n",
       "      <td>2826000106075300</td>\n",
       "      <td>식품</td>\n",
       "      <td>농산물</td>\n",
       "      <td>NaN</td>\n",
       "    </tr>\n",
       "    <tr>\n",
       "      <th>36637</th>\n",
       "      <td>36637</td>\n",
       "      <td>5013000897086300</td>\n",
       "      <td>4311100034004300</td>\n",
       "      <td>식품</td>\n",
       "      <td>농산물</td>\n",
       "      <td>NaN</td>\n",
       "    </tr>\n",
       "    <tr>\n",
       "      <th>36638</th>\n",
       "      <td>36638</td>\n",
       "      <td>5013000902065100</td>\n",
       "      <td>4145000013011200</td>\n",
       "      <td>식품</td>\n",
       "      <td>농산물</td>\n",
       "      <td>NaN</td>\n",
       "    </tr>\n",
       "    <tr>\n",
       "      <th>36639</th>\n",
       "      <td>36639</td>\n",
       "      <td>5013000926078200</td>\n",
       "      <td>2714000174062400</td>\n",
       "      <td>식품</td>\n",
       "      <td>농산물</td>\n",
       "      <td>NaN</td>\n",
       "    </tr>\n",
       "  </tbody>\n",
       "</table>\n",
       "<p>36640 rows × 6 columns</p>\n",
       "</div>"
      ],
      "text/plain": [
       "       index     SEND_SPG_INNB      REC_SPG_INNB DL_GD_LCLS_NM DL_GD_MCLS_NM  \\\n",
       "0          0  1129000014045300  5011000220046300          패션의류            상의   \n",
       "1          1  1135000009051200  5011000178037300         생활/건강          반려동물   \n",
       "2          2  1135000030093100  5011000265091400          패션의류        기타패션의류   \n",
       "3          3  1154500002014200  5011000315087400            식품           농산물   \n",
       "4          4  1165000021008300  5011000177051200            식품          가공식품   \n",
       "...      ...               ...               ...           ...           ...   \n",
       "36635  36635  5013000858004400  4725000719072200            식품           농산물   \n",
       "36636  36636  5013000870018300  2826000106075300            식품           농산물   \n",
       "36637  36637  5013000897086300  4311100034004300            식품           농산물   \n",
       "36638  36638  5013000902065100  4145000013011200            식품           농산물   \n",
       "36639  36639  5013000926078200  2714000174062400            식품           농산물   \n",
       "\n",
       "       INVC_CONT  \n",
       "0            3.0  \n",
       "1            3.0  \n",
       "2            9.0  \n",
       "3           10.0  \n",
       "4            3.0  \n",
       "...          ...  \n",
       "36635        NaN  \n",
       "36636        NaN  \n",
       "36637        NaN  \n",
       "36638        NaN  \n",
       "36639        NaN  \n",
       "\n",
       "[36640 rows x 6 columns]"
      ]
     },
     "execution_count": 3,
     "metadata": {},
     "output_type": "execute_result"
    }
   ],
   "source": [
    "# train과 test 병합\n",
    "data = pd.concat([train,test]).reset_index(drop=True);data"
   ]
  },
  {
   "cell_type": "markdown",
   "id": "7947ebe5",
   "metadata": {},
   "source": [
    "- 원본 데이터의 형태로 변경해줌"
   ]
  },
  {
   "cell_type": "code",
   "execution_count": 4,
   "id": "dbd1ed0c",
   "metadata": {},
   "outputs": [],
   "source": [
    "# data\n",
    "data['SEND_SPG_INNB'] = data['SEND_SPG_INNB'].apply(lambda x: int(str(x)[:5])*10000000)\n",
    "data['REC_SPG_INNB'] = data['REC_SPG_INNB'].apply(lambda x: int(str(x)[:5])*10000000)"
   ]
  },
  {
   "cell_type": "code",
   "execution_count": 5,
   "id": "c3d446fe",
   "metadata": {},
   "outputs": [],
   "source": [
    "#train과 test를 분리\n",
    "train = data.iloc[:32000,:]\n",
    "test = data.iloc[32000:,:]\n",
    "test = test.drop(columns = ['INVC_CONT']).reset_index(drop=True)"
   ]
  },
  {
   "cell_type": "markdown",
   "id": "383c5c30",
   "metadata": {},
   "source": [
    "- Make Feature"
   ]
  },
  {
   "cell_type": "markdown",
   "id": "cd0136c0",
   "metadata": {},
   "source": [
    "    - train"
   ]
  },
  {
   "cell_type": "code",
   "execution_count": 7,
   "id": "6d6a78f3",
   "metadata": {},
   "outputs": [],
   "source": [
    "####train#####\n",
    "\n",
    "# 송하인 기준으로 총 몇개의 택배를 보냈는지 확인하여 이를 피처로 만들어줌 \n",
    "groupby_SEND_SPG_INNB_sum = train.groupby('SEND_SPG_INNB').sum()['INVC_CONT'].reset_index()\n",
    "# 이후에 피처로 만들어주기 위한 dic생성\n",
    "groupby_SEND_SPG_INNB_sum_dix_tr = {x:y for x,y in zip(groupby_SEND_SPG_INNB_sum['SEND_SPG_INNB'], groupby_SEND_SPG_INNB_sum['INVC_CONT'])}\n",
    "# 피처 생성\n",
    "train['총물류량'] = train['SEND_SPG_INNB'].apply(lambda x: groupby_SEND_SPG_INNB_sum_dix_tr[x])"
   ]
  },
  {
   "cell_type": "code",
   "execution_count": 8,
   "id": "728c33a3",
   "metadata": {},
   "outputs": [],
   "source": [
    "####train#####\n",
    "# 송하인 기준으로 총 몇명의 수하인에게 택배를 보냈는지 확인하여 이를 피처로 만들어줌 \n",
    "groupby_SEND_SPG_INNB_count = train.groupby('SEND_SPG_INNB').count()['REC_SPG_INNB'].reset_index()\n",
    "# 이후에 피처로 만들어주기 위한 dic생성\n",
    "groupby_SEND_SPG_INNB_count_dix_tr = {x:y for x,y in zip(groupby_SEND_SPG_INNB_count['SEND_SPG_INNB'], groupby_SEND_SPG_INNB_count['REC_SPG_INNB'])}\n",
    "# 피처 생성\n",
    "train['거래수하인수'] = train['SEND_SPG_INNB'].apply(lambda x: groupby_SEND_SPG_INNB_count_dix_tr[x])"
   ]
  },
  {
   "cell_type": "code",
   "execution_count": 9,
   "id": "051805b5",
   "metadata": {},
   "outputs": [],
   "source": [
    "####train####\n",
    "# 평균 한건당 몇번의 수화물을 보내는지에 대한 피처 생성\n",
    "train['평균거래량'] = train['총물류량'] / train['거래수하인수'] # INVC_CONT과의 상관계수를 확인해보면 scailing을 하기 전 0.6정도 나옴"
   ]
  },
  {
   "cell_type": "code",
   "execution_count": 10,
   "id": "3deac033",
   "metadata": {},
   "outputs": [],
   "source": [
    "# train의 데이터를 참고하여 피처를 만들어줌\n",
    "## 총물류량\n",
    "dic_total = {x:y for x,y in zip(train['SEND_SPG_INNB'], train['총물류량'])}\n",
    "test['총물류량'] = test['SEND_SPG_INNB'].apply(lambda x: dic_total[x] if x in dic_total else 0)\n",
    "## 거래수하인수\n",
    "dic_rec = {x:y for x,y in zip(train['SEND_SPG_INNB'], train['거래수하인수'])}\n",
    "d_items = [i[1] for i in dic_rec.items()] # 딕셔너리의 아이템들을 확인함\n",
    "d_items.sort(reverse=True)\n",
    "test['거래수하인수'] = test['SEND_SPG_INNB'].apply(lambda x: dic_rec[x] if x in dic_rec else np.mean(d_items)) # train에 없는 경우 평균으로 채워줌\n",
    "## 평균거래량\n",
    "test['평균거래량'] = test['총물류량'] / test['거래수하인수']"
   ]
  },
  {
   "cell_type": "code",
   "execution_count": 11,
   "id": "29f2ce01",
   "metadata": {},
   "outputs": [
    {
     "data": {
      "text/plain": [
       "count     4640.000000\n",
       "mean     10281.481521\n",
       "std       5136.497290\n",
       "min          1.000000\n",
       "25%      11341.000000\n",
       "50%      11341.000000\n",
       "75%      14003.000000\n",
       "max      14003.000000\n",
       "Name: 거래수하인수, dtype: float64"
      ]
     },
     "execution_count": 11,
     "metadata": {},
     "output_type": "execute_result"
    }
   ],
   "source": [
    "test['거래수하인수'].describe()"
   ]
  },
  {
   "cell_type": "markdown",
   "id": "d4773827",
   "metadata": {},
   "source": [
    "    - preprocessing"
   ]
  },
  {
   "cell_type": "code",
   "execution_count": 12,
   "id": "f345fe0b",
   "metadata": {},
   "outputs": [],
   "source": [
    "# 인코딩과 스케일링을 위하여 분리및 제거해줌\n",
    "####train####\n",
    "train_index = train['index']\n",
    "y_train = train['INVC_CONT']\n",
    "\n",
    "train = train.drop(columns=['index', 'INVC_CONT'])\n",
    "\n",
    "####test####\n",
    "test_index = test['index']\n",
    "\n",
    "test = test.drop(columns=['index'])"
   ]
  },
  {
   "cell_type": "markdown",
   "id": "87371d29",
   "metadata": {},
   "source": [
    "- Scailing"
   ]
  },
  {
   "cell_type": "code",
   "execution_count": 13,
   "id": "573cb385",
   "metadata": {},
   "outputs": [],
   "source": [
    "# 범주형 변수와 수치형 변수를 분리\n",
    "#train\n",
    "train_cat_features = train.select_dtypes(include=['object']).columns.to_list()\n",
    "train_num_features = train.select_dtypes(exclude='object').columns.to_list() \n",
    "#test\n",
    "test_cat_features = test.select_dtypes(include=['object']).columns.to_list()\n",
    "test_num_features = test.select_dtypes(exclude='object').columns.to_list() "
   ]
  },
  {
   "cell_type": "code",
   "execution_count": 14,
   "id": "c6dbb330",
   "metadata": {},
   "outputs": [],
   "source": [
    "# 송하인과 수하인의 고유번호는 따로 scailing을 하지 않고 그대로 진행\n",
    "# train\n",
    "train_num_features = train_num_features[2:]\n",
    "# test\n",
    "test_num_features = test_num_features[2:]"
   ]
  },
  {
   "cell_type": "code",
   "execution_count": 15,
   "id": "160eac29",
   "metadata": {},
   "outputs": [],
   "source": [
    "#수치형변수 PowerTransformer scailing\n",
    "# train\n",
    "train[train_num_features] = PowerTransformer(standardize=True).fit_transform(train[train_num_features])\n",
    "# test\n",
    "test[test_num_features] = PowerTransformer(standardize=True).fit_transform(test[test_num_features])"
   ]
  },
  {
   "cell_type": "code",
   "execution_count": 16,
   "id": "a8946f87",
   "metadata": {},
   "outputs": [],
   "source": [
    "# 위에서 떼어놨던 피처 병합\n",
    "# train\n",
    "train = pd.concat([train_index, train, y_train],axis=1)\n",
    "# test\n",
    "test = pd.concat([test_index, test],axis=1)"
   ]
  },
  {
   "cell_type": "markdown",
   "id": "145c78bc",
   "metadata": {},
   "source": [
    "### One-hot encoding & PCA\n",
    "- 범주형 변수들을 onehot encoding한 이후 피처들의 차원을 두번에 걸쳐 줄여줌"
   ]
  },
  {
   "cell_type": "code",
   "execution_count": 17,
   "id": "1b19911b",
   "metadata": {},
   "outputs": [],
   "source": [
    "# data = pd.get_dummies(data, columns=['SEND_SPG_INNB', 'REC_SPG_INNB', 'cluster_kmeans'])"
   ]
  },
  {
   "cell_type": "code",
   "execution_count": 18,
   "id": "452b6f75",
   "metadata": {},
   "outputs": [],
   "source": [
    "# 차원축소 매소드 \n",
    "def dummy_to_pca(tr, column_name:str) :\n",
    "    # pca에 쓰일 차원을 확인하기 위함\n",
    "    max_d = len(set(tr[column_name])) # -> PCA의 차원으로 씀\n",
    "    \n",
    "    # PCA를 적용할 데이터프레임 생성\n",
    "    f =tr[['index', column_name]] # 해당 컬럼만 가져와줌\n",
    "    f = pd.get_dummies(f, columns=[column_name])  # 가져온 피처에 One-hot-encoding을 진행해줌\n",
    "    f = f.iloc[:,1:].astype('float64') # 누적 분산 계산을 위해 index를 지우고 type을 바꿔줌\n",
    "    \n",
    "    # 최적의 d값을 찾음\n",
    "    pca = PCA(n_components=max_d) \n",
    "    pca.fit(f) # pca 적용 / 원핫 인코딩을 한 피처들을 위에서 정의한 차원을 축소해줌\n",
    "\n",
    "    # 적절한 차원의 수를 찾기 위한 과정\n",
    "    cumsum = np.cumsum(pca.explained_variance_ratio_) #분산의 설명량을 누적합 / 리스트의 형태\n",
    "    num_d = np.argmax(cumsum >= 0.99) + 1 # 분산의 설명량이 99%이상 되는 인덱스를 cumsum에서 찾아줌 거기에 1을 더한것을 차원으로 지정 / 차원 갱신\n",
    "    if num_d == 1: # 가장 처음의 차원이 분산이 제일 큰 경우\n",
    "        num_d = max_d\n",
    "    \n",
    "    # 적용\n",
    "    pca = PCA(n_components=num_d) # 분산의 설명량이 99% 이상 되는 차원으로 두번째 pca를 적용함    \n",
    "    result = pca.fit_transform(f)\n",
    "    result = pd.DataFrame(result)\n",
    "    result.columns = [column_name + '_' + str(column) for column in result.columns] #열이름 지정\n",
    "    result.index = f.index # 인덱스를 맞춰줌\n",
    "    return result.reset_index()"
   ]
  },
  {
   "cell_type": "code",
   "execution_count": 19,
   "id": "abd68f4c",
   "metadata": {},
   "outputs": [],
   "source": [
    "# PCA를 진행한 데이터 생성후 train와 병합\n",
    "# train\n",
    "pca_train = pd.concat([dummy_to_pca(train, 'DL_GD_LCLS_NM').iloc[:,1:], dummy_to_pca(train, 'DL_GD_MCLS_NM').iloc[:,1:]],axis=1)\n",
    "train = pd.concat([train.drop(columns=['DL_GD_LCLS_NM', 'DL_GD_MCLS_NM']), pca_train], axis=1)\n",
    "# test\n",
    "pca_test = pd.concat([dummy_to_pca(test, 'DL_GD_LCLS_NM').iloc[:,1:], dummy_to_pca(test, 'DL_GD_MCLS_NM').iloc[:,1:]],axis=1)\n",
    "test = pd.concat([test.drop(columns=['DL_GD_LCLS_NM', 'DL_GD_MCLS_NM']), pca_test], axis=1)"
   ]
  },
  {
   "cell_type": "markdown",
   "id": "04190043",
   "metadata": {},
   "source": [
    "- Data split"
   ]
  },
  {
   "cell_type": "code",
   "execution_count": 20,
   "id": "9e1666a1",
   "metadata": {},
   "outputs": [],
   "source": [
    "# #train과 test를 분리\n",
    "# train = data.iloc[:32000,:]\n",
    "# test = data.iloc[32000:,:]\n",
    "# test = test.drop(columns = ['INVC_CONT']).reset_index(drop=True)"
   ]
  },
  {
   "cell_type": "markdown",
   "id": "26f2488a",
   "metadata": {},
   "source": [
    "## Modeling with pycaret\n",
    "- pycaret을 통하여 가장 좋은 성능을 내는 모델을 찾고 사용\n",
    "- 검증 score만이 아닌 public을 같이 확인하여 모델 평가"
   ]
  },
  {
   "cell_type": "markdown",
   "id": "e1fa1205",
   "metadata": {},
   "source": [
    "- Model setting"
   ]
  },
  {
   "cell_type": "code",
   "execution_count": 21,
   "id": "f0382af8",
   "metadata": {},
   "outputs": [],
   "source": [
    "train = train.iloc[:,1:]"
   ]
  },
  {
   "cell_type": "code",
   "execution_count": 22,
   "id": "648808f1",
   "metadata": {},
   "outputs": [
    {
     "data": {
      "text/html": [
       "<style type=\"text/css\">\n",
       "#T_1c385_row13_col1 {\n",
       "  background-color: lightgreen;\n",
       "}\n",
       "</style>\n",
       "<table id=\"T_1c385_\">\n",
       "  <thead>\n",
       "    <tr>\n",
       "      <th class=\"blank level0\" >&nbsp;</th>\n",
       "      <th class=\"col_heading level0 col0\" >Description</th>\n",
       "      <th class=\"col_heading level0 col1\" >Value</th>\n",
       "    </tr>\n",
       "  </thead>\n",
       "  <tbody>\n",
       "    <tr>\n",
       "      <th id=\"T_1c385_level0_row0\" class=\"row_heading level0 row0\" >0</th>\n",
       "      <td id=\"T_1c385_row0_col0\" class=\"data row0 col0\" >session_id</td>\n",
       "      <td id=\"T_1c385_row0_col1\" class=\"data row0 col1\" >42</td>\n",
       "    </tr>\n",
       "    <tr>\n",
       "      <th id=\"T_1c385_level0_row1\" class=\"row_heading level0 row1\" >1</th>\n",
       "      <td id=\"T_1c385_row1_col0\" class=\"data row1 col0\" >Target</td>\n",
       "      <td id=\"T_1c385_row1_col1\" class=\"data row1 col1\" >INVC_CONT</td>\n",
       "    </tr>\n",
       "    <tr>\n",
       "      <th id=\"T_1c385_level0_row2\" class=\"row_heading level0 row2\" >2</th>\n",
       "      <td id=\"T_1c385_row2_col0\" class=\"data row2 col0\" >Original Data</td>\n",
       "      <td id=\"T_1c385_row2_col1\" class=\"data row2 col1\" >(32000, 30)</td>\n",
       "    </tr>\n",
       "    <tr>\n",
       "      <th id=\"T_1c385_level0_row3\" class=\"row_heading level0 row3\" >3</th>\n",
       "      <td id=\"T_1c385_row3_col0\" class=\"data row3 col0\" >Missing Values</td>\n",
       "      <td id=\"T_1c385_row3_col1\" class=\"data row3 col1\" >False</td>\n",
       "    </tr>\n",
       "    <tr>\n",
       "      <th id=\"T_1c385_level0_row4\" class=\"row_heading level0 row4\" >4</th>\n",
       "      <td id=\"T_1c385_row4_col0\" class=\"data row4 col0\" >Numeric Features</td>\n",
       "      <td id=\"T_1c385_row4_col1\" class=\"data row4 col1\" >29</td>\n",
       "    </tr>\n",
       "    <tr>\n",
       "      <th id=\"T_1c385_level0_row5\" class=\"row_heading level0 row5\" >5</th>\n",
       "      <td id=\"T_1c385_row5_col0\" class=\"data row5 col0\" >Categorical Features</td>\n",
       "      <td id=\"T_1c385_row5_col1\" class=\"data row5 col1\" >0</td>\n",
       "    </tr>\n",
       "    <tr>\n",
       "      <th id=\"T_1c385_level0_row6\" class=\"row_heading level0 row6\" >6</th>\n",
       "      <td id=\"T_1c385_row6_col0\" class=\"data row6 col0\" >Transformed Train Set</td>\n",
       "      <td id=\"T_1c385_row6_col1\" class=\"data row6 col1\" >(25600, 29)</td>\n",
       "    </tr>\n",
       "    <tr>\n",
       "      <th id=\"T_1c385_level0_row7\" class=\"row_heading level0 row7\" >7</th>\n",
       "      <td id=\"T_1c385_row7_col0\" class=\"data row7 col0\" >Transformed Test Set</td>\n",
       "      <td id=\"T_1c385_row7_col1\" class=\"data row7 col1\" >(6400, 29)</td>\n",
       "    </tr>\n",
       "    <tr>\n",
       "      <th id=\"T_1c385_level0_row8\" class=\"row_heading level0 row8\" >8</th>\n",
       "      <td id=\"T_1c385_row8_col0\" class=\"data row8 col0\" >Shuffle Train-Test</td>\n",
       "      <td id=\"T_1c385_row8_col1\" class=\"data row8 col1\" >True</td>\n",
       "    </tr>\n",
       "    <tr>\n",
       "      <th id=\"T_1c385_level0_row9\" class=\"row_heading level0 row9\" >9</th>\n",
       "      <td id=\"T_1c385_row9_col0\" class=\"data row9 col0\" >Stratify Train-Test</td>\n",
       "      <td id=\"T_1c385_row9_col1\" class=\"data row9 col1\" >False</td>\n",
       "    </tr>\n",
       "    <tr>\n",
       "      <th id=\"T_1c385_level0_row10\" class=\"row_heading level0 row10\" >10</th>\n",
       "      <td id=\"T_1c385_row10_col0\" class=\"data row10 col0\" >Fold Generator</td>\n",
       "      <td id=\"T_1c385_row10_col1\" class=\"data row10 col1\" >KFold</td>\n",
       "    </tr>\n",
       "    <tr>\n",
       "      <th id=\"T_1c385_level0_row11\" class=\"row_heading level0 row11\" >11</th>\n",
       "      <td id=\"T_1c385_row11_col0\" class=\"data row11 col0\" >Fold Number</td>\n",
       "      <td id=\"T_1c385_row11_col1\" class=\"data row11 col1\" >10</td>\n",
       "    </tr>\n",
       "    <tr>\n",
       "      <th id=\"T_1c385_level0_row12\" class=\"row_heading level0 row12\" >12</th>\n",
       "      <td id=\"T_1c385_row12_col0\" class=\"data row12 col0\" >CPU Jobs</td>\n",
       "      <td id=\"T_1c385_row12_col1\" class=\"data row12 col1\" >-1</td>\n",
       "    </tr>\n",
       "    <tr>\n",
       "      <th id=\"T_1c385_level0_row13\" class=\"row_heading level0 row13\" >13</th>\n",
       "      <td id=\"T_1c385_row13_col0\" class=\"data row13 col0\" >Use GPU</td>\n",
       "      <td id=\"T_1c385_row13_col1\" class=\"data row13 col1\" >True</td>\n",
       "    </tr>\n",
       "    <tr>\n",
       "      <th id=\"T_1c385_level0_row14\" class=\"row_heading level0 row14\" >14</th>\n",
       "      <td id=\"T_1c385_row14_col0\" class=\"data row14 col0\" >Log Experiment</td>\n",
       "      <td id=\"T_1c385_row14_col1\" class=\"data row14 col1\" >False</td>\n",
       "    </tr>\n",
       "    <tr>\n",
       "      <th id=\"T_1c385_level0_row15\" class=\"row_heading level0 row15\" >15</th>\n",
       "      <td id=\"T_1c385_row15_col0\" class=\"data row15 col0\" >Experiment Name</td>\n",
       "      <td id=\"T_1c385_row15_col1\" class=\"data row15 col1\" >reg-default-name</td>\n",
       "    </tr>\n",
       "    <tr>\n",
       "      <th id=\"T_1c385_level0_row16\" class=\"row_heading level0 row16\" >16</th>\n",
       "      <td id=\"T_1c385_row16_col0\" class=\"data row16 col0\" >USI</td>\n",
       "      <td id=\"T_1c385_row16_col1\" class=\"data row16 col1\" >81e7</td>\n",
       "    </tr>\n",
       "    <tr>\n",
       "      <th id=\"T_1c385_level0_row17\" class=\"row_heading level0 row17\" >17</th>\n",
       "      <td id=\"T_1c385_row17_col0\" class=\"data row17 col0\" >Transform Target</td>\n",
       "      <td id=\"T_1c385_row17_col1\" class=\"data row17 col1\" >False</td>\n",
       "    </tr>\n",
       "    <tr>\n",
       "      <th id=\"T_1c385_level0_row18\" class=\"row_heading level0 row18\" >18</th>\n",
       "      <td id=\"T_1c385_row18_col0\" class=\"data row18 col0\" >Transform Target Method</td>\n",
       "      <td id=\"T_1c385_row18_col1\" class=\"data row18 col1\" >box-cox</td>\n",
       "    </tr>\n",
       "  </tbody>\n",
       "</table>\n"
      ],
      "text/plain": [
       "<pandas.io.formats.style.Styler at 0x2252d38e6d0>"
      ]
     },
     "metadata": {},
     "output_type": "display_data"
    }
   ],
   "source": [
    "reg = setup(train, \n",
    "            preprocess = False, \n",
    "            train_size = 0.8,  \n",
    "            target = 'INVC_CONT', # 목표 변수\n",
    "            silent = True, \n",
    "            use_gpu = True, \n",
    "            session_id = 42,\n",
    "            fold_shuffle = True,\n",
    "            )"
   ]
  },
  {
   "cell_type": "markdown",
   "id": "52b93065",
   "metadata": {},
   "source": [
    "- Compare Model -> 잘 나오는 모델이 무엇인지 확인하여 사용"
   ]
  },
  {
   "cell_type": "code",
   "execution_count": 23,
   "id": "3d8c6ab6",
   "metadata": {
    "scrolled": false
   },
   "outputs": [
    {
     "data": {
      "text/html": [
       "<style type=\"text/css\">\n",
       "#T_548a6_ th {\n",
       "  text-align: left;\n",
       "}\n",
       "#T_548a6_row0_col0, #T_548a6_row0_col1, #T_548a6_row0_col5, #T_548a6_row0_col6, #T_548a6_row1_col0, #T_548a6_row1_col1, #T_548a6_row1_col2, #T_548a6_row1_col3, #T_548a6_row1_col4, #T_548a6_row1_col6, #T_548a6_row2_col0, #T_548a6_row2_col1, #T_548a6_row2_col2, #T_548a6_row2_col3, #T_548a6_row2_col4, #T_548a6_row2_col5, #T_548a6_row2_col6, #T_548a6_row3_col0, #T_548a6_row3_col1, #T_548a6_row3_col2, #T_548a6_row3_col3, #T_548a6_row3_col4, #T_548a6_row3_col5, #T_548a6_row3_col6, #T_548a6_row4_col0, #T_548a6_row4_col1, #T_548a6_row4_col2, #T_548a6_row4_col3, #T_548a6_row4_col4, #T_548a6_row4_col5, #T_548a6_row4_col6, #T_548a6_row5_col0, #T_548a6_row5_col1, #T_548a6_row5_col2, #T_548a6_row5_col3, #T_548a6_row5_col4, #T_548a6_row5_col5, #T_548a6_row5_col6, #T_548a6_row6_col0, #T_548a6_row6_col1, #T_548a6_row6_col2, #T_548a6_row6_col3, #T_548a6_row6_col4, #T_548a6_row6_col5, #T_548a6_row6_col6, #T_548a6_row7_col0, #T_548a6_row7_col1, #T_548a6_row7_col2, #T_548a6_row7_col3, #T_548a6_row7_col4, #T_548a6_row7_col5, #T_548a6_row7_col6, #T_548a6_row8_col0, #T_548a6_row8_col1, #T_548a6_row8_col2, #T_548a6_row8_col3, #T_548a6_row8_col4, #T_548a6_row8_col5, #T_548a6_row8_col6, #T_548a6_row9_col0, #T_548a6_row9_col1, #T_548a6_row9_col2, #T_548a6_row9_col3, #T_548a6_row9_col4, #T_548a6_row9_col5, #T_548a6_row9_col6, #T_548a6_row10_col0, #T_548a6_row10_col1, #T_548a6_row10_col2, #T_548a6_row10_col3, #T_548a6_row10_col4, #T_548a6_row10_col5, #T_548a6_row10_col6, #T_548a6_row11_col0, #T_548a6_row11_col1, #T_548a6_row11_col2, #T_548a6_row11_col3, #T_548a6_row11_col4, #T_548a6_row11_col5, #T_548a6_row11_col6, #T_548a6_row12_col0, #T_548a6_row12_col2, #T_548a6_row12_col3, #T_548a6_row12_col4, #T_548a6_row12_col5, #T_548a6_row13_col0, #T_548a6_row13_col1, #T_548a6_row13_col2, #T_548a6_row13_col3, #T_548a6_row13_col4, #T_548a6_row13_col5, #T_548a6_row13_col6, #T_548a6_row14_col0, #T_548a6_row14_col1, #T_548a6_row14_col2, #T_548a6_row14_col3, #T_548a6_row14_col4, #T_548a6_row14_col5, #T_548a6_row14_col6, #T_548a6_row15_col0, #T_548a6_row15_col1, #T_548a6_row15_col2, #T_548a6_row15_col3, #T_548a6_row15_col4, #T_548a6_row15_col5, #T_548a6_row15_col6, #T_548a6_row16_col0, #T_548a6_row16_col1, #T_548a6_row16_col2, #T_548a6_row16_col3, #T_548a6_row16_col4, #T_548a6_row16_col5, #T_548a6_row16_col6, #T_548a6_row17_col0, #T_548a6_row17_col1, #T_548a6_row17_col2, #T_548a6_row17_col3, #T_548a6_row17_col4, #T_548a6_row17_col5, #T_548a6_row17_col6, #T_548a6_row18_col0, #T_548a6_row18_col1, #T_548a6_row18_col2, #T_548a6_row18_col3, #T_548a6_row18_col4, #T_548a6_row18_col5, #T_548a6_row18_col6 {\n",
       "  text-align: left;\n",
       "}\n",
       "#T_548a6_row0_col2, #T_548a6_row0_col3, #T_548a6_row0_col4, #T_548a6_row1_col5, #T_548a6_row12_col1, #T_548a6_row12_col6 {\n",
       "  text-align: left;\n",
       "  background-color: yellow;\n",
       "}\n",
       "#T_548a6_row0_col7, #T_548a6_row1_col7, #T_548a6_row2_col7, #T_548a6_row3_col7, #T_548a6_row6_col7, #T_548a6_row7_col7, #T_548a6_row8_col7, #T_548a6_row9_col7, #T_548a6_row11_col7, #T_548a6_row12_col7, #T_548a6_row13_col7, #T_548a6_row14_col7, #T_548a6_row15_col7, #T_548a6_row16_col7, #T_548a6_row17_col7, #T_548a6_row18_col7 {\n",
       "  text-align: left;\n",
       "  background-color: lightgrey;\n",
       "}\n",
       "#T_548a6_row4_col7, #T_548a6_row5_col7, #T_548a6_row10_col7 {\n",
       "  text-align: left;\n",
       "  background-color: yellow;\n",
       "  background-color: lightgrey;\n",
       "}\n",
       "</style>\n",
       "<table id=\"T_548a6_\">\n",
       "  <thead>\n",
       "    <tr>\n",
       "      <th class=\"blank level0\" >&nbsp;</th>\n",
       "      <th class=\"col_heading level0 col0\" >Model</th>\n",
       "      <th class=\"col_heading level0 col1\" >MAE</th>\n",
       "      <th class=\"col_heading level0 col2\" >MSE</th>\n",
       "      <th class=\"col_heading level0 col3\" >RMSE</th>\n",
       "      <th class=\"col_heading level0 col4\" >R2</th>\n",
       "      <th class=\"col_heading level0 col5\" >RMSLE</th>\n",
       "      <th class=\"col_heading level0 col6\" >MAPE</th>\n",
       "      <th class=\"col_heading level0 col7\" >TT (Sec)</th>\n",
       "    </tr>\n",
       "  </thead>\n",
       "  <tbody>\n",
       "    <tr>\n",
       "      <th id=\"T_548a6_level0_row0\" class=\"row_heading level0 row0\" >lightgbm</th>\n",
       "      <td id=\"T_548a6_row0_col0\" class=\"data row0 col0\" >Light Gradient Boosting Machine</td>\n",
       "      <td id=\"T_548a6_row0_col1\" class=\"data row0 col1\" >2.1513</td>\n",
       "      <td id=\"T_548a6_row0_col2\" class=\"data row0 col2\" >28.8368</td>\n",
       "      <td id=\"T_548a6_row0_col3\" class=\"data row0 col3\" >5.3156</td>\n",
       "      <td id=\"T_548a6_row0_col4\" class=\"data row0 col4\" >0.0794</td>\n",
       "      <td id=\"T_548a6_row0_col5\" class=\"data row0 col5\" >0.4110</td>\n",
       "      <td id=\"T_548a6_row0_col6\" class=\"data row0 col6\" >0.4144</td>\n",
       "      <td id=\"T_548a6_row0_col7\" class=\"data row0 col7\" >0.7900</td>\n",
       "    </tr>\n",
       "    <tr>\n",
       "      <th id=\"T_548a6_level0_row1\" class=\"row_heading level0 row1\" >gbr</th>\n",
       "      <td id=\"T_548a6_row1_col0\" class=\"data row1 col0\" >Gradient Boosting Regressor</td>\n",
       "      <td id=\"T_548a6_row1_col1\" class=\"data row1 col1\" >2.1434</td>\n",
       "      <td id=\"T_548a6_row1_col2\" class=\"data row1 col2\" >28.8940</td>\n",
       "      <td id=\"T_548a6_row1_col3\" class=\"data row1 col3\" >5.3283</td>\n",
       "      <td id=\"T_548a6_row1_col4\" class=\"data row1 col4\" >0.0720</td>\n",
       "      <td id=\"T_548a6_row1_col5\" class=\"data row1 col5\" >0.4053</td>\n",
       "      <td id=\"T_548a6_row1_col6\" class=\"data row1 col6\" >0.4122</td>\n",
       "      <td id=\"T_548a6_row1_col7\" class=\"data row1 col7\" >1.6320</td>\n",
       "    </tr>\n",
       "    <tr>\n",
       "      <th id=\"T_548a6_level0_row2\" class=\"row_heading level0 row2\" >catboost</th>\n",
       "      <td id=\"T_548a6_row2_col0\" class=\"data row2 col0\" >CatBoost Regressor</td>\n",
       "      <td id=\"T_548a6_row2_col1\" class=\"data row2 col1\" >2.1552</td>\n",
       "      <td id=\"T_548a6_row2_col2\" class=\"data row2 col2\" >29.6018</td>\n",
       "      <td id=\"T_548a6_row2_col3\" class=\"data row2 col3\" >5.3967</td>\n",
       "      <td id=\"T_548a6_row2_col4\" class=\"data row2 col4\" >0.0458</td>\n",
       "      <td id=\"T_548a6_row2_col5\" class=\"data row2 col5\" >0.4111</td>\n",
       "      <td id=\"T_548a6_row2_col6\" class=\"data row2 col6\" >0.4119</td>\n",
       "      <td id=\"T_548a6_row2_col7\" class=\"data row2 col7\" >3.9160</td>\n",
       "    </tr>\n",
       "    <tr>\n",
       "      <th id=\"T_548a6_level0_row3\" class=\"row_heading level0 row3\" >br</th>\n",
       "      <td id=\"T_548a6_row3_col0\" class=\"data row3 col0\" >Bayesian Ridge</td>\n",
       "      <td id=\"T_548a6_row3_col1\" class=\"data row3 col1\" >2.2155</td>\n",
       "      <td id=\"T_548a6_row3_col2\" class=\"data row3 col2\" >31.0500</td>\n",
       "      <td id=\"T_548a6_row3_col3\" class=\"data row3 col3\" >5.4813</td>\n",
       "      <td id=\"T_548a6_row3_col4\" class=\"data row3 col4\" >0.0348</td>\n",
       "      <td id=\"T_548a6_row3_col5\" class=\"data row3 col5\" >0.4194</td>\n",
       "      <td id=\"T_548a6_row3_col6\" class=\"data row3 col6\" >0.4319</td>\n",
       "      <td id=\"T_548a6_row3_col7\" class=\"data row3 col7\" >0.0260</td>\n",
       "    </tr>\n",
       "    <tr>\n",
       "      <th id=\"T_548a6_level0_row4\" class=\"row_heading level0 row4\" >ridge</th>\n",
       "      <td id=\"T_548a6_row4_col0\" class=\"data row4 col0\" >Ridge Regression</td>\n",
       "      <td id=\"T_548a6_row4_col1\" class=\"data row4 col1\" >2.2176</td>\n",
       "      <td id=\"T_548a6_row4_col2\" class=\"data row4 col2\" >31.0598</td>\n",
       "      <td id=\"T_548a6_row4_col3\" class=\"data row4 col3\" >5.4823</td>\n",
       "      <td id=\"T_548a6_row4_col4\" class=\"data row4 col4\" >0.0344</td>\n",
       "      <td id=\"T_548a6_row4_col5\" class=\"data row4 col5\" >0.4198</td>\n",
       "      <td id=\"T_548a6_row4_col6\" class=\"data row4 col6\" >0.4325</td>\n",
       "      <td id=\"T_548a6_row4_col7\" class=\"data row4 col7\" >0.0120</td>\n",
       "    </tr>\n",
       "    <tr>\n",
       "      <th id=\"T_548a6_level0_row5\" class=\"row_heading level0 row5\" >omp</th>\n",
       "      <td id=\"T_548a6_row5_col0\" class=\"data row5 col0\" >Orthogonal Matching Pursuit</td>\n",
       "      <td id=\"T_548a6_row5_col1\" class=\"data row5 col1\" >2.2591</td>\n",
       "      <td id=\"T_548a6_row5_col2\" class=\"data row5 col2\" >31.6311</td>\n",
       "      <td id=\"T_548a6_row5_col3\" class=\"data row5 col3\" >5.5320</td>\n",
       "      <td id=\"T_548a6_row5_col4\" class=\"data row5 col4\" >0.0169</td>\n",
       "      <td id=\"T_548a6_row5_col5\" class=\"data row5 col5\" >0.4248</td>\n",
       "      <td id=\"T_548a6_row5_col6\" class=\"data row5 col6\" >0.4426</td>\n",
       "      <td id=\"T_548a6_row5_col7\" class=\"data row5 col7\" >0.0120</td>\n",
       "    </tr>\n",
       "    <tr>\n",
       "      <th id=\"T_548a6_level0_row6\" class=\"row_heading level0 row6\" >en</th>\n",
       "      <td id=\"T_548a6_row6_col0\" class=\"data row6 col0\" >Elastic Net</td>\n",
       "      <td id=\"T_548a6_row6_col1\" class=\"data row6 col1\" >2.2359</td>\n",
       "      <td id=\"T_548a6_row6_col2\" class=\"data row6 col2\" >31.9668</td>\n",
       "      <td id=\"T_548a6_row6_col3\" class=\"data row6 col3\" >5.5597</td>\n",
       "      <td id=\"T_548a6_row6_col4\" class=\"data row6 col4\" >0.0076</td>\n",
       "      <td id=\"T_548a6_row6_col5\" class=\"data row6 col5\" >0.4194</td>\n",
       "      <td id=\"T_548a6_row6_col6\" class=\"data row6 col6\" >0.4352</td>\n",
       "      <td id=\"T_548a6_row6_col7\" class=\"data row6 col7\" >0.6060</td>\n",
       "    </tr>\n",
       "    <tr>\n",
       "      <th id=\"T_548a6_level0_row7\" class=\"row_heading level0 row7\" >rf</th>\n",
       "      <td id=\"T_548a6_row7_col0\" class=\"data row7 col0\" >Random Forest Regressor</td>\n",
       "      <td id=\"T_548a6_row7_col1\" class=\"data row7 col1\" >2.2555</td>\n",
       "      <td id=\"T_548a6_row7_col2\" class=\"data row7 col2\" >31.3509</td>\n",
       "      <td id=\"T_548a6_row7_col3\" class=\"data row7 col3\" >5.5622</td>\n",
       "      <td id=\"T_548a6_row7_col4\" class=\"data row7 col4\" >-0.0191</td>\n",
       "      <td id=\"T_548a6_row7_col5\" class=\"data row7 col5\" >0.4363</td>\n",
       "      <td id=\"T_548a6_row7_col6\" class=\"data row7 col6\" >0.4331</td>\n",
       "      <td id=\"T_548a6_row7_col7\" class=\"data row7 col7\" >0.9680</td>\n",
       "    </tr>\n",
       "    <tr>\n",
       "      <th id=\"T_548a6_level0_row8\" class=\"row_heading level0 row8\" >lr</th>\n",
       "      <td id=\"T_548a6_row8_col0\" class=\"data row8 col0\" >Linear Regression</td>\n",
       "      <td id=\"T_548a6_row8_col1\" class=\"data row8 col1\" >2.2392</td>\n",
       "      <td id=\"T_548a6_row8_col2\" class=\"data row8 col2\" >32.0456</td>\n",
       "      <td id=\"T_548a6_row8_col3\" class=\"data row8 col3\" >5.5671</td>\n",
       "      <td id=\"T_548a6_row8_col4\" class=\"data row8 col4\" >0.0048</td>\n",
       "      <td id=\"T_548a6_row8_col5\" class=\"data row8 col5\" >0.4206</td>\n",
       "      <td id=\"T_548a6_row8_col6\" class=\"data row8 col6\" >0.4360</td>\n",
       "      <td id=\"T_548a6_row8_col7\" class=\"data row8 col7\" >0.0140</td>\n",
       "    </tr>\n",
       "    <tr>\n",
       "      <th id=\"T_548a6_level0_row9\" class=\"row_heading level0 row9\" >lasso</th>\n",
       "      <td id=\"T_548a6_row9_col0\" class=\"data row9 col0\" >Lasso Regression</td>\n",
       "      <td id=\"T_548a6_row9_col1\" class=\"data row9 col1\" >2.2392</td>\n",
       "      <td id=\"T_548a6_row9_col2\" class=\"data row9 col2\" >32.0456</td>\n",
       "      <td id=\"T_548a6_row9_col3\" class=\"data row9 col3\" >5.5671</td>\n",
       "      <td id=\"T_548a6_row9_col4\" class=\"data row9 col4\" >0.0048</td>\n",
       "      <td id=\"T_548a6_row9_col5\" class=\"data row9 col5\" >0.4206</td>\n",
       "      <td id=\"T_548a6_row9_col6\" class=\"data row9 col6\" >0.4360</td>\n",
       "      <td id=\"T_548a6_row9_col7\" class=\"data row9 col7\" >0.5080</td>\n",
       "    </tr>\n",
       "    <tr>\n",
       "      <th id=\"T_548a6_level0_row10\" class=\"row_heading level0 row10\" >llar</th>\n",
       "      <td id=\"T_548a6_row10_col0\" class=\"data row10 col0\" >Lasso Least Angle Regression</td>\n",
       "      <td id=\"T_548a6_row10_col1\" class=\"data row10 col1\" >2.2511</td>\n",
       "      <td id=\"T_548a6_row10_col2\" class=\"data row10 col2\" >32.1921</td>\n",
       "      <td id=\"T_548a6_row10_col3\" class=\"data row10 col3\" >5.5805</td>\n",
       "      <td id=\"T_548a6_row10_col4\" class=\"data row10 col4\" >-0.0002</td>\n",
       "      <td id=\"T_548a6_row10_col5\" class=\"data row10 col5\" >0.4219</td>\n",
       "      <td id=\"T_548a6_row10_col6\" class=\"data row10 col6\" >0.4390</td>\n",
       "      <td id=\"T_548a6_row10_col7\" class=\"data row10 col7\" >0.0120</td>\n",
       "    </tr>\n",
       "    <tr>\n",
       "      <th id=\"T_548a6_level0_row11\" class=\"row_heading level0 row11\" >xgboost</th>\n",
       "      <td id=\"T_548a6_row11_col0\" class=\"data row11 col0\" >Extreme Gradient Boosting</td>\n",
       "      <td id=\"T_548a6_row11_col1\" class=\"data row11 col1\" >2.1994</td>\n",
       "      <td id=\"T_548a6_row11_col2\" class=\"data row11 col2\" >31.6962</td>\n",
       "      <td id=\"T_548a6_row11_col3\" class=\"data row11 col3\" >5.5906</td>\n",
       "      <td id=\"T_548a6_row11_col4\" class=\"data row11 col4\" >-0.0291</td>\n",
       "      <td id=\"T_548a6_row11_col5\" class=\"data row11 col5\" >0.4220</td>\n",
       "      <td id=\"T_548a6_row11_col6\" class=\"data row11 col6\" >0.4205</td>\n",
       "      <td id=\"T_548a6_row11_col7\" class=\"data row11 col7\" >1.2220</td>\n",
       "    </tr>\n",
       "    <tr>\n",
       "      <th id=\"T_548a6_level0_row12\" class=\"row_heading level0 row12\" >huber</th>\n",
       "      <td id=\"T_548a6_row12_col0\" class=\"data row12 col0\" >Huber Regressor</td>\n",
       "      <td id=\"T_548a6_row12_col1\" class=\"data row12 col1\" >1.8698</td>\n",
       "      <td id=\"T_548a6_row12_col2\" class=\"data row12 col2\" >33.6560</td>\n",
       "      <td id=\"T_548a6_row12_col3\" class=\"data row12 col3\" >5.7119</td>\n",
       "      <td id=\"T_548a6_row12_col4\" class=\"data row12 col4\" >-0.0498</td>\n",
       "      <td id=\"T_548a6_row12_col5\" class=\"data row12 col5\" >0.4263</td>\n",
       "      <td id=\"T_548a6_row12_col6\" class=\"data row12 col6\" >0.2652</td>\n",
       "      <td id=\"T_548a6_row12_col7\" class=\"data row12 col7\" >0.1420</td>\n",
       "    </tr>\n",
       "    <tr>\n",
       "      <th id=\"T_548a6_level0_row13\" class=\"row_heading level0 row13\" >et</th>\n",
       "      <td id=\"T_548a6_row13_col0\" class=\"data row13 col0\" >Extra Trees Regressor</td>\n",
       "      <td id=\"T_548a6_row13_col1\" class=\"data row13 col1\" >2.2878</td>\n",
       "      <td id=\"T_548a6_row13_col2\" class=\"data row13 col2\" >33.1598</td>\n",
       "      <td id=\"T_548a6_row13_col3\" class=\"data row13 col3\" >5.7164</td>\n",
       "      <td id=\"T_548a6_row13_col4\" class=\"data row13 col4\" >-0.0749</td>\n",
       "      <td id=\"T_548a6_row13_col5\" class=\"data row13 col5\" >0.4443</td>\n",
       "      <td id=\"T_548a6_row13_col6\" class=\"data row13 col6\" >0.4363</td>\n",
       "      <td id=\"T_548a6_row13_col7\" class=\"data row13 col7\" >0.7780</td>\n",
       "    </tr>\n",
       "    <tr>\n",
       "      <th id=\"T_548a6_level0_row14\" class=\"row_heading level0 row14\" >knn</th>\n",
       "      <td id=\"T_548a6_row14_col0\" class=\"data row14 col0\" >K Neighbors Regressor</td>\n",
       "      <td id=\"T_548a6_row14_col1\" class=\"data row14 col1\" >2.4104</td>\n",
       "      <td id=\"T_548a6_row14_col2\" class=\"data row14 col2\" >35.1938</td>\n",
       "      <td id=\"T_548a6_row14_col3\" class=\"data row14 col3\" >5.8922</td>\n",
       "      <td id=\"T_548a6_row14_col4\" class=\"data row14 col4\" >-0.1436</td>\n",
       "      <td id=\"T_548a6_row14_col5\" class=\"data row14 col5\" >0.4734</td>\n",
       "      <td id=\"T_548a6_row14_col6\" class=\"data row14 col6\" >0.4686</td>\n",
       "      <td id=\"T_548a6_row14_col7\" class=\"data row14 col7\" >0.7960</td>\n",
       "    </tr>\n",
       "    <tr>\n",
       "      <th id=\"T_548a6_level0_row15\" class=\"row_heading level0 row15\" >dt</th>\n",
       "      <td id=\"T_548a6_row15_col0\" class=\"data row15 col0\" >Decision Tree Regressor</td>\n",
       "      <td id=\"T_548a6_row15_col1\" class=\"data row15 col1\" >2.3355</td>\n",
       "      <td id=\"T_548a6_row15_col2\" class=\"data row15 col2\" >36.2967</td>\n",
       "      <td id=\"T_548a6_row15_col3\" class=\"data row15 col3\" >5.9870</td>\n",
       "      <td id=\"T_548a6_row15_col4\" class=\"data row15 col4\" >-0.1855</td>\n",
       "      <td id=\"T_548a6_row15_col5\" class=\"data row15 col5\" >0.4534</td>\n",
       "      <td id=\"T_548a6_row15_col6\" class=\"data row15 col6\" >0.4457</td>\n",
       "      <td id=\"T_548a6_row15_col7\" class=\"data row15 col7\" >0.0700</td>\n",
       "    </tr>\n",
       "    <tr>\n",
       "      <th id=\"T_548a6_level0_row16\" class=\"row_heading level0 row16\" >ada</th>\n",
       "      <td id=\"T_548a6_row16_col0\" class=\"data row16 col0\" >AdaBoost Regressor</td>\n",
       "      <td id=\"T_548a6_row16_col1\" class=\"data row16 col1\" >3.1906</td>\n",
       "      <td id=\"T_548a6_row16_col2\" class=\"data row16 col2\" >37.6779</td>\n",
       "      <td id=\"T_548a6_row16_col3\" class=\"data row16 col3\" >6.1171</td>\n",
       "      <td id=\"T_548a6_row16_col4\" class=\"data row16 col4\" >-0.2622</td>\n",
       "      <td id=\"T_548a6_row16_col5\" class=\"data row16 col5\" >0.5306</td>\n",
       "      <td id=\"T_548a6_row16_col6\" class=\"data row16 col6\" >0.7562</td>\n",
       "      <td id=\"T_548a6_row16_col7\" class=\"data row16 col7\" >0.2480</td>\n",
       "    </tr>\n",
       "    <tr>\n",
       "      <th id=\"T_548a6_level0_row17\" class=\"row_heading level0 row17\" >par</th>\n",
       "      <td id=\"T_548a6_row17_col0\" class=\"data row17 col0\" >Passive Aggressive Regressor</td>\n",
       "      <td id=\"T_548a6_row17_col1\" class=\"data row17 col1\" >2.9183</td>\n",
       "      <td id=\"T_548a6_row17_col2\" class=\"data row17 col2\" >39.4374</td>\n",
       "      <td id=\"T_548a6_row17_col3\" class=\"data row17 col3\" >6.2252</td>\n",
       "      <td id=\"T_548a6_row17_col4\" class=\"data row17 col4\" >-0.2813</td>\n",
       "      <td id=\"T_548a6_row17_col5\" class=\"data row17 col5\" >0.6091</td>\n",
       "      <td id=\"T_548a6_row17_col6\" class=\"data row17 col6\" >0.5798</td>\n",
       "      <td id=\"T_548a6_row17_col7\" class=\"data row17 col7\" >0.0320</td>\n",
       "    </tr>\n",
       "    <tr>\n",
       "      <th id=\"T_548a6_level0_row18\" class=\"row_heading level0 row18\" >lar</th>\n",
       "      <td id=\"T_548a6_row18_col0\" class=\"data row18 col0\" >Least Angle Regression</td>\n",
       "      <td id=\"T_548a6_row18_col1\" class=\"data row18 col1\" >550.3112</td>\n",
       "      <td id=\"T_548a6_row18_col2\" class=\"data row18 col2\" >17166223.7345</td>\n",
       "      <td id=\"T_548a6_row18_col3\" class=\"data row18 col3\" >1858.8983</td>\n",
       "      <td id=\"T_548a6_row18_col4\" class=\"data row18 col4\" >-636038.9989</td>\n",
       "      <td id=\"T_548a6_row18_col5\" class=\"data row18 col5\" >1.3671</td>\n",
       "      <td id=\"T_548a6_row18_col6\" class=\"data row18 col6\" >142.6113</td>\n",
       "      <td id=\"T_548a6_row18_col7\" class=\"data row18 col7\" >0.0160</td>\n",
       "    </tr>\n",
       "  </tbody>\n",
       "</table>\n"
      ],
      "text/plain": [
       "<pandas.io.formats.style.Styler at 0x2252cef85b0>"
      ]
     },
     "metadata": {},
     "output_type": "display_data"
    }
   ],
   "source": [
    "top3 = compare_models(sort='RMSE', fold=5, n_select = 3)"
   ]
  },
  {
   "cell_type": "markdown",
   "id": "64fb81dc",
   "metadata": {},
   "source": [
    "- Hyperparameter tuning"
   ]
  },
  {
   "cell_type": "code",
   "execution_count": null,
   "id": "5bf0ff86",
   "metadata": {},
   "outputs": [
    {
     "data": {
      "text/html": [
       "<style type=\"text/css\">\n",
       "#T_8202c_row10_col0, #T_8202c_row10_col1, #T_8202c_row10_col2, #T_8202c_row10_col3, #T_8202c_row10_col4, #T_8202c_row10_col5 {\n",
       "  background: yellow;\n",
       "}\n",
       "</style>\n",
       "<table id=\"T_8202c_\">\n",
       "  <thead>\n",
       "    <tr>\n",
       "      <th class=\"blank level0\" >&nbsp;</th>\n",
       "      <th class=\"col_heading level0 col0\" >MAE</th>\n",
       "      <th class=\"col_heading level0 col1\" >MSE</th>\n",
       "      <th class=\"col_heading level0 col2\" >RMSE</th>\n",
       "      <th class=\"col_heading level0 col3\" >R2</th>\n",
       "      <th class=\"col_heading level0 col4\" >RMSLE</th>\n",
       "      <th class=\"col_heading level0 col5\" >MAPE</th>\n",
       "    </tr>\n",
       "  </thead>\n",
       "  <tbody>\n",
       "    <tr>\n",
       "      <th id=\"T_8202c_level0_row0\" class=\"row_heading level0 row0\" >0</th>\n",
       "      <td id=\"T_8202c_row0_col0\" class=\"data row0 col0\" >2.1246</td>\n",
       "      <td id=\"T_8202c_row0_col1\" class=\"data row0 col1\" >27.0306</td>\n",
       "      <td id=\"T_8202c_row0_col2\" class=\"data row0 col2\" >5.1991</td>\n",
       "      <td id=\"T_8202c_row0_col3\" class=\"data row0 col3\" >-0.2584</td>\n",
       "      <td id=\"T_8202c_row0_col4\" class=\"data row0 col4\" >0.4015</td>\n",
       "      <td id=\"T_8202c_row0_col5\" class=\"data row0 col5\" >0.4122</td>\n",
       "    </tr>\n",
       "    <tr>\n",
       "      <th id=\"T_8202c_level0_row1\" class=\"row_heading level0 row1\" >1</th>\n",
       "      <td id=\"T_8202c_row1_col0\" class=\"data row1 col0\" >2.1693</td>\n",
       "      <td id=\"T_8202c_row1_col1\" class=\"data row1 col1\" >23.3366</td>\n",
       "      <td id=\"T_8202c_row1_col2\" class=\"data row1 col2\" >4.8308</td>\n",
       "      <td id=\"T_8202c_row1_col3\" class=\"data row1 col3\" >0.2819</td>\n",
       "      <td id=\"T_8202c_row1_col4\" class=\"data row1 col4\" >0.4144</td>\n",
       "      <td id=\"T_8202c_row1_col5\" class=\"data row1 col5\" >0.4275</td>\n",
       "    </tr>\n",
       "    <tr>\n",
       "      <th id=\"T_8202c_level0_row2\" class=\"row_heading level0 row2\" >2</th>\n",
       "      <td id=\"T_8202c_row2_col0\" class=\"data row2 col0\" >2.0791</td>\n",
       "      <td id=\"T_8202c_row2_col1\" class=\"data row2 col1\" >22.1797</td>\n",
       "      <td id=\"T_8202c_row2_col2\" class=\"data row2 col2\" >4.7095</td>\n",
       "      <td id=\"T_8202c_row2_col3\" class=\"data row2 col3\" >0.0243</td>\n",
       "      <td id=\"T_8202c_row2_col4\" class=\"data row2 col4\" >0.4063</td>\n",
       "      <td id=\"T_8202c_row2_col5\" class=\"data row2 col5\" >0.4113</td>\n",
       "    </tr>\n",
       "    <tr>\n",
       "      <th id=\"T_8202c_level0_row3\" class=\"row_heading level0 row3\" >3</th>\n",
       "      <td id=\"T_8202c_row3_col0\" class=\"data row3 col0\" >2.1392</td>\n",
       "      <td id=\"T_8202c_row3_col1\" class=\"data row3 col1\" >26.1946</td>\n",
       "      <td id=\"T_8202c_row3_col2\" class=\"data row3 col2\" >5.1181</td>\n",
       "      <td id=\"T_8202c_row3_col3\" class=\"data row3 col3\" >0.0962</td>\n",
       "      <td id=\"T_8202c_row3_col4\" class=\"data row3 col4\" >0.4048</td>\n",
       "      <td id=\"T_8202c_row3_col5\" class=\"data row3 col5\" >0.4053</td>\n",
       "    </tr>\n",
       "    <tr>\n",
       "      <th id=\"T_8202c_level0_row4\" class=\"row_heading level0 row4\" >4</th>\n",
       "      <td id=\"T_8202c_row4_col0\" class=\"data row4 col0\" >2.1640</td>\n",
       "      <td id=\"T_8202c_row4_col1\" class=\"data row4 col1\" >29.4626</td>\n",
       "      <td id=\"T_8202c_row4_col2\" class=\"data row4 col2\" >5.4279</td>\n",
       "      <td id=\"T_8202c_row4_col3\" class=\"data row4 col3\" >0.0360</td>\n",
       "      <td id=\"T_8202c_row4_col4\" class=\"data row4 col4\" >0.4121</td>\n",
       "      <td id=\"T_8202c_row4_col5\" class=\"data row4 col5\" >0.4092</td>\n",
       "    </tr>\n",
       "    <tr>\n",
       "      <th id=\"T_8202c_level0_row5\" class=\"row_heading level0 row5\" >5</th>\n",
       "      <td id=\"T_8202c_row5_col0\" class=\"data row5 col0\" >2.0557</td>\n",
       "      <td id=\"T_8202c_row5_col1\" class=\"data row5 col1\" >22.1795</td>\n",
       "      <td id=\"T_8202c_row5_col2\" class=\"data row5 col2\" >4.7095</td>\n",
       "      <td id=\"T_8202c_row5_col3\" class=\"data row5 col3\" >0.0496</td>\n",
       "      <td id=\"T_8202c_row5_col4\" class=\"data row5 col4\" >0.3962</td>\n",
       "      <td id=\"T_8202c_row5_col5\" class=\"data row5 col5\" >0.4091</td>\n",
       "    </tr>\n",
       "    <tr>\n",
       "      <th id=\"T_8202c_level0_row6\" class=\"row_heading level0 row6\" >6</th>\n",
       "      <td id=\"T_8202c_row6_col0\" class=\"data row6 col0\" >2.2399</td>\n",
       "      <td id=\"T_8202c_row6_col1\" class=\"data row6 col1\" >39.0367</td>\n",
       "      <td id=\"T_8202c_row6_col2\" class=\"data row6 col2\" >6.2479</td>\n",
       "      <td id=\"T_8202c_row6_col3\" class=\"data row6 col3\" >0.2426</td>\n",
       "      <td id=\"T_8202c_row6_col4\" class=\"data row6 col4\" >0.4135</td>\n",
       "      <td id=\"T_8202c_row6_col5\" class=\"data row6 col5\" >0.4117</td>\n",
       "    </tr>\n",
       "    <tr>\n",
       "      <th id=\"T_8202c_level0_row7\" class=\"row_heading level0 row7\" >7</th>\n",
       "      <td id=\"T_8202c_row7_col0\" class=\"data row7 col0\" >2.2225</td>\n",
       "      <td id=\"T_8202c_row7_col1\" class=\"data row7 col1\" >44.1932</td>\n",
       "      <td id=\"T_8202c_row7_col2\" class=\"data row7 col2\" >6.6478</td>\n",
       "      <td id=\"T_8202c_row7_col3\" class=\"data row7 col3\" >0.3121</td>\n",
       "      <td id=\"T_8202c_row7_col4\" class=\"data row7 col4\" >0.4020</td>\n",
       "      <td id=\"T_8202c_row7_col5\" class=\"data row7 col5\" >0.3983</td>\n",
       "    </tr>\n",
       "    <tr>\n",
       "      <th id=\"T_8202c_level0_row8\" class=\"row_heading level0 row8\" >8</th>\n",
       "      <td id=\"T_8202c_row8_col0\" class=\"data row8 col0\" >2.1647</td>\n",
       "      <td id=\"T_8202c_row8_col1\" class=\"data row8 col1\" >33.8034</td>\n",
       "      <td id=\"T_8202c_row8_col2\" class=\"data row8 col2\" >5.8141</td>\n",
       "      <td id=\"T_8202c_row8_col3\" class=\"data row8 col3\" >-0.0947</td>\n",
       "      <td id=\"T_8202c_row8_col4\" class=\"data row8 col4\" >0.4025</td>\n",
       "      <td id=\"T_8202c_row8_col5\" class=\"data row8 col5\" >0.4136</td>\n",
       "    </tr>\n",
       "    <tr>\n",
       "      <th id=\"T_8202c_level0_row9\" class=\"row_heading level0 row9\" >9</th>\n",
       "      <td id=\"T_8202c_row9_col0\" class=\"data row9 col0\" >2.0055</td>\n",
       "      <td id=\"T_8202c_row9_col1\" class=\"data row9 col1\" >14.7567</td>\n",
       "      <td id=\"T_8202c_row9_col2\" class=\"data row9 col2\" >3.8414</td>\n",
       "      <td id=\"T_8202c_row9_col3\" class=\"data row9 col3\" >0.0498</td>\n",
       "      <td id=\"T_8202c_row9_col4\" class=\"data row9 col4\" >0.3955</td>\n",
       "      <td id=\"T_8202c_row9_col5\" class=\"data row9 col5\" >0.4148</td>\n",
       "    </tr>\n",
       "    <tr>\n",
       "      <th id=\"T_8202c_level0_row10\" class=\"row_heading level0 row10\" >Mean</th>\n",
       "      <td id=\"T_8202c_row10_col0\" class=\"data row10 col0\" >2.1365</td>\n",
       "      <td id=\"T_8202c_row10_col1\" class=\"data row10 col1\" >28.2174</td>\n",
       "      <td id=\"T_8202c_row10_col2\" class=\"data row10 col2\" >5.2546</td>\n",
       "      <td id=\"T_8202c_row10_col3\" class=\"data row10 col3\" >0.0739</td>\n",
       "      <td id=\"T_8202c_row10_col4\" class=\"data row10 col4\" >0.4049</td>\n",
       "      <td id=\"T_8202c_row10_col5\" class=\"data row10 col5\" >0.4113</td>\n",
       "    </tr>\n",
       "    <tr>\n",
       "      <th id=\"T_8202c_level0_row11\" class=\"row_heading level0 row11\" >SD</th>\n",
       "      <td id=\"T_8202c_row11_col0\" class=\"data row11 col0\" >0.0692</td>\n",
       "      <td id=\"T_8202c_row11_col1\" class=\"data row11 col1\" >8.2974</td>\n",
       "      <td id=\"T_8202c_row11_col2\" class=\"data row11 col2\" >0.7787</td>\n",
       "      <td id=\"T_8202c_row11_col3\" class=\"data row11 col3\" >0.1652</td>\n",
       "      <td id=\"T_8202c_row11_col4\" class=\"data row11 col4\" >0.0064</td>\n",
       "      <td id=\"T_8202c_row11_col5\" class=\"data row11 col5\" >0.0070</td>\n",
       "    </tr>\n",
       "  </tbody>\n",
       "</table>\n"
      ],
      "text/plain": [
       "<pandas.io.formats.style.Styler at 0x22530a5ea90>"
      ]
     },
     "metadata": {},
     "output_type": "display_data"
    },
    {
     "data": {
      "application/vnd.jupyter.widget-view+json": {
       "model_id": "2a44511955c740e4a9953dce6411716d",
       "version_major": 2,
       "version_minor": 0
      },
      "text/plain": [
       "IntProgress(value=0, description='Processing: ', max=7)"
      ]
     },
     "metadata": {},
     "output_type": "display_data"
    },
    {
     "data": {
      "text/html": [
       "<div>\n",
       "<style scoped>\n",
       "    .dataframe tbody tr th:only-of-type {\n",
       "        vertical-align: middle;\n",
       "    }\n",
       "\n",
       "    .dataframe tbody tr th {\n",
       "        vertical-align: top;\n",
       "    }\n",
       "\n",
       "    .dataframe thead th {\n",
       "        text-align: right;\n",
       "    }\n",
       "</style>\n",
       "<table border=\"1\" class=\"dataframe\">\n",
       "  <thead>\n",
       "    <tr style=\"text-align: right;\">\n",
       "      <th></th>\n",
       "      <th></th>\n",
       "      <th></th>\n",
       "    </tr>\n",
       "    <tr>\n",
       "      <th></th>\n",
       "      <th></th>\n",
       "      <th></th>\n",
       "    </tr>\n",
       "  </thead>\n",
       "  <tbody>\n",
       "    <tr>\n",
       "      <th>Initiated</th>\n",
       "      <td>. . . . . . . . . . . . . . . . . .</td>\n",
       "      <td>22:54:36</td>\n",
       "    </tr>\n",
       "    <tr>\n",
       "      <th>Status</th>\n",
       "      <td>. . . . . . . . . . . . . . . . . .</td>\n",
       "      <td>Searching Hyperparameters</td>\n",
       "    </tr>\n",
       "    <tr>\n",
       "      <th>Estimator</th>\n",
       "      <td>. . . . . . . . . . . . . . . . . .</td>\n",
       "      <td>Gradient Boosting Regressor</td>\n",
       "    </tr>\n",
       "  </tbody>\n",
       "</table>\n",
       "</div>"
      ],
      "text/plain": [
       "                                                                           \n",
       "                                                                           \n",
       "Initiated  . . . . . . . . . . . . . . . . . .                     22:54:36\n",
       "Status     . . . . . . . . . . . . . . . . . .    Searching Hyperparameters\n",
       "Estimator  . . . . . . . . . . . . . . . . . .  Gradient Boosting Regressor"
      ]
     },
     "metadata": {},
     "output_type": "display_data"
    },
    {
     "data": {
      "text/html": [
       "<div>\n",
       "<style scoped>\n",
       "    .dataframe tbody tr th:only-of-type {\n",
       "        vertical-align: middle;\n",
       "    }\n",
       "\n",
       "    .dataframe tbody tr th {\n",
       "        vertical-align: top;\n",
       "    }\n",
       "\n",
       "    .dataframe thead th {\n",
       "        text-align: right;\n",
       "    }\n",
       "</style>\n",
       "<table border=\"1\" class=\"dataframe\">\n",
       "  <thead>\n",
       "    <tr style=\"text-align: right;\">\n",
       "      <th></th>\n",
       "      <th>MAE</th>\n",
       "      <th>MSE</th>\n",
       "      <th>RMSE</th>\n",
       "      <th>R2</th>\n",
       "      <th>RMSLE</th>\n",
       "      <th>MAPE</th>\n",
       "    </tr>\n",
       "  </thead>\n",
       "  <tbody>\n",
       "  </tbody>\n",
       "</table>\n",
       "</div>"
      ],
      "text/plain": [
       "Empty DataFrame\n",
       "Columns: [MAE, MSE, RMSE, R2, RMSLE, MAPE]\n",
       "Index: []"
      ]
     },
     "metadata": {},
     "output_type": "display_data"
    },
    {
     "name": "stdout",
     "output_type": "stream",
     "text": [
      "Fitting 5 folds for each of 30 candidates, totalling 150 fits\n"
     ]
    },
    {
     "name": "stderr",
     "output_type": "stream",
     "text": [
      "[Parallel(n_jobs=-1)]: Using backend LokyBackend with 16 concurrent workers.\n",
      "[Parallel(n_jobs=-1)]: Done  18 tasks      | elapsed:    4.6s\n"
     ]
    }
   ],
   "source": [
    "#gbr\n",
    "gbr = create_model('gbr')\n",
    "#hyperparameter tuning\n",
    "gbr = tune_model(gbr, optimize = 'RMSE', choose_better = True, fold = 5, n_iter = 30)"
   ]
  },
  {
   "cell_type": "code",
   "execution_count": 21,
   "id": "f4ee407e",
   "metadata": {},
   "outputs": [],
   "source": [
    "# 전체 데이터로 재학습\n",
    "final_model = finalize_model(gbr)"
   ]
  },
  {
   "cell_type": "markdown",
   "id": "b1a3017f",
   "metadata": {},
   "source": [
    "- Fit & predict"
   ]
  },
  {
   "cell_type": "code",
   "execution_count": 22,
   "id": "1fda94ea",
   "metadata": {},
   "outputs": [],
   "source": [
    "# y_train = train['INVC_CONT']\n",
    "train = train.drop('INVC_CONT', axis=1)"
   ]
  },
  {
   "cell_type": "code",
   "execution_count": 23,
   "id": "15746d3e",
   "metadata": {},
   "outputs": [],
   "source": [
    "model = final_model\n",
    "model.fit(train,y_train)\n",
    "pred = model.predict(test.iloc[:,1:])"
   ]
  },
  {
   "cell_type": "code",
   "execution_count": 24,
   "id": "c55f2479",
   "metadata": {},
   "outputs": [],
   "source": [
    "submission['INVC_CONT'] = pred"
   ]
  },
  {
   "cell_type": "markdown",
   "id": "c52bb0f4",
   "metadata": {},
   "source": [
    "### Make submission "
   ]
  },
  {
   "cell_type": "code",
   "execution_count": 25,
   "id": "e6c307f4",
   "metadata": {},
   "outputs": [
    {
     "name": "stdout",
     "output_type": "stream",
     "text": [
      "'submission_12222221.csv' is ready to submit.\n"
     ]
    }
   ],
   "source": [
    "t = pd.Timestamp.now()\n",
    "fname = f'submission_{t.month:02}{t.day:02}{t.hour:02}{t.minute:02}.csv'\n",
    "# fname = 'submission_검증'\n",
    "submission.to_csv('../submission/'+fname, index=False)\n",
    "print(\"'{}' is ready to submit.\" .format(fname))"
   ]
  },
  {
   "cell_type": "code",
   "execution_count": 40,
   "id": "fb4a7a09",
   "metadata": {},
   "outputs": [],
   "source": [
    "# submission.to_csv('../submission/submission_검증.csv', index=False)\n",
    "# print('submission is ready to submit.')"
   ]
  },
  {
   "cell_type": "markdown",
   "id": "f0ca5de7",
   "metadata": {},
   "source": [
    "# END"
   ]
  }
 ],
 "metadata": {
  "kernelspec": {
   "display_name": "ML",
   "language": "python",
   "name": "ml"
  },
  "language_info": {
   "codemirror_mode": {
    "name": "ipython",
    "version": 3
   },
   "file_extension": ".py",
   "mimetype": "text/x-python",
   "name": "python",
   "nbconvert_exporter": "python",
   "pygments_lexer": "ipython3",
   "version": "3.8.11"
  }
 },
 "nbformat": 4,
 "nbformat_minor": 5
}
