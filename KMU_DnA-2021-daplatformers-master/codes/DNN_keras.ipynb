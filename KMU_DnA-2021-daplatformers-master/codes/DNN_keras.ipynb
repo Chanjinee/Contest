{
 "cells": [
  {
   "cell_type": "markdown",
   "id": "0c08e617",
   "metadata": {},
   "source": [
    "## 모듈 import"
   ]
  },
  {
   "cell_type": "markdown",
   "id": "8ced4e70",
   "metadata": {},
   "source": [
    "출처: 불균형 데이터 분류  \n",
    "https://tensorflow.google.cn/tutorials/structured_data/imbalanced_data?hl=ko "
   ]
  },
  {
   "cell_type": "code",
   "execution_count": 1,
   "id": "1134268d",
   "metadata": {},
   "outputs": [],
   "source": [
    "#모듈 import\n",
    "import pandas as pd\n",
    "import numpy as np\n",
    "import matplotlib.pyplot as plt\n",
    "%matplotlib inline\n",
    "from pycaret.classification  import *\n",
    "from sklearn.tree import DecisionTreeClassifier\n",
    "\n",
    "# feature selection\n",
    "import sys, warnings\n",
    "if not sys.warnoptions: warnings.simplefilter(\"ignore\")\n",
    "from sklearn.feature_selection import SelectPercentile\n",
    "from sklearn.model_selection import cross_val_score\n",
    "from tqdm import tqdm\n",
    "\n",
    "#Scailing\n",
    "from sklearn.preprocessing import PowerTransformer\n",
    "\n",
    "#Label Encoding\n",
    "from sklearn.preprocessing import LabelEncoder"
   ]
  },
  {
   "cell_type": "code",
   "execution_count": 2,
   "id": "1968852d",
   "metadata": {},
   "outputs": [],
   "source": [
    "#삡운드\n",
    "import winsound as sd\n",
    "# 삡싸운드\n",
    "def beepsound():\n",
    "    fr = 2000   # range : 37 ~ 32767\n",
    "    du = 1000 # 1000 ms ==1second\n",
    "    sd.Beep(fr, du) # winsound.Beep(frequency, duration)"
   ]
  },
  {
   "cell_type": "markdown",
   "id": "82fb57cb",
   "metadata": {},
   "source": [
    "## data 불러오기"
   ]
  },
  {
   "cell_type": "code",
   "execution_count": 3,
   "id": "0efe807b",
   "metadata": {},
   "outputs": [],
   "source": [
    "# 데이터가 저장된 경로 설정\n",
    "data_path = '../daplatformers2021/'\n",
    "\n",
    "# 데이터 불러오기\n",
    "train = pd.read_csv(data_path + 'trainset.csv')\n",
    "test = pd.read_csv(data_path + 'testset_final.csv')\n",
    "submission = pd.read_csv(data_path + 'sample_submission_final.csv')"
   ]
  },
  {
   "cell_type": "code",
   "execution_count": 4,
   "id": "196c02dc",
   "metadata": {},
   "outputs": [],
   "source": [
    "train = train.drop(columns=['매니저최초가입일', '매니저최초서비스일', '매니저주소'])"
   ]
  },
  {
   "cell_type": "markdown",
   "id": "17cb90da",
   "metadata": {},
   "source": [
    "### 전처리"
   ]
  },
  {
   "cell_type": "code",
   "execution_count": 5,
   "id": "e10ea124",
   "metadata": {},
   "outputs": [],
   "source": [
    "data = pd.concat([train,test]).reset_index(drop=True)"
   ]
  },
  {
   "cell_type": "markdown",
   "id": "b990f4f0",
   "metadata": {},
   "source": [
    "- 결측치 채움"
   ]
  },
  {
   "cell_type": "code",
   "execution_count": 6,
   "id": "4201d7db",
   "metadata": {},
   "outputs": [],
   "source": [
    "### 결측치 제거\n",
    "\n",
    "# 결측치 0으로 채움\n",
    "data['청소교육이수여부'] = data['청소교육이수여부'].fillna(0)\n",
    "data['CS교육이수여부'] = data['CS교육이수여부'].fillna(0)\n",
    "data['부재중여부'] = data['부재중여부'].fillna(0)\n",
    "# 결측치 최빈값으로 채움\n",
    "data['매니저이동방법'] = data['매니저이동방법'].fillna(data['매니저이동방법'].mode()[0])\n",
    "data['매니저사용휴대폰'] = data['매니저사용휴대폰'].fillna(data['매니저사용휴대폰'].mode()[0])\n",
    "data['고객가입일'] = data['고객가입일'].fillna(data['고객가입일'].mode()[0]) #데이터 바뀌고 test에 생긴 에러\n",
    "data['결재형태'] = data['결재형태'].fillna(data['결재형태'].mode()[0]) #데이터 바뀌고 test에 생긴 에러\n",
    "\n",
    "data['접수시각'] = data['접수시각'].fillna(data['접수시각'].mode()[0])\n",
    "data['반려동물'] = data['반려동물'].fillna('없음')\n",
    "# 결측치 판단하여 없음으로 채움\n",
    "data['우선청소'] = data['우선청소'].fillna('없음')\n",
    "\n",
    "### 평수 평균 확인 -> 31.xx -> 30평대로 채움\n",
    "# (10*len(data.query('평수 == \"10평대\"')) + 20*len(data.query('평수 == \"20평대\"')) + \n",
    "#  30*len(data.query('평수 == \"30평대\"')) + 40*len(data.query('평수 == \"40평대이상\"')))/ \\\n",
    "# (len(data.query('평수 == \"10평대\"'))+len(data.query('평수 == \"20평대\"'))+\n",
    "#  len(data.query('평수 == \"30평대\"'))+len(data.query('평수 == \"40평대이상\"')))\n",
    "data['평수'] = data['평수'].fillna('30평대')"
   ]
  },
  {
   "cell_type": "code",
   "execution_count": 7,
   "id": "1f710304",
   "metadata": {},
   "outputs": [],
   "source": [
    "#test와 train의 구조를 맞춰줌\n",
    "data['매니저생년월일'] = data['매니저생년월일'].astype('str').apply(lambda x: x[0:4])\n",
    "# 새로운 피처 만들기\n",
    "data['매니저나이'] = data['매니저생년월일'].apply(lambda x: 2021-int(x))\n",
    "data['매니저나이대'] = data['매니저나이'].apply(lambda x: f'{str(x)[0]}0대')"
   ]
  },
  {
   "cell_type": "code",
   "execution_count": 9,
   "id": "6c5b7398",
   "metadata": {},
   "outputs": [],
   "source": [
    "# 저장해놓기\n",
    "data_SEQ = data.SEQ\n",
    "# 인코딩을 위하여 제거 / 이후 나중에 병합함\n",
    "y_data = data['매칭성공여부']\n",
    "data = data.drop(columns = ['SEQ','매칭성공여부'])"
   ]
  },
  {
   "cell_type": "code",
   "execution_count": 11,
   "id": "a8946f87",
   "metadata": {},
   "outputs": [],
   "source": [
    "#라벨인코딩\n",
    "\n",
    "#범주형변수 수동으로 분리\n",
    "data[['장기서비스여부','기존고객여부','부재중여부','쿠폰사용여부','매니저성별',\n",
    "         'CS교육이수여부','청소교육이수여부','부재중서비스가능여부','추천인여부']\n",
    "     ] = data[['장기서비스여부','기존고객여부','부재중여부','쿠폰사용여부','매니저성별',\n",
    "         'CS교육이수여부','청소교육이수여부','부재중서비스가능여부','추천인여부'\n",
    "     ]].astype('str')\n",
    "\n",
    "# 범주형 변수와 수치형 변수를 분리\n",
    "cat_features = data.select_dtypes(include=['object']).columns.to_list()\n",
    "num_features = data.select_dtypes(exclude='object').columns.to_list() \n",
    "\n",
    "#수치형변수 scailing\n",
    "# data[num_features] = PowerTransformer(standardize=True).fit_transform(data[num_features])\n",
    "\n",
    "#라벨인코딩\n",
    "#위의 범주형 변수들을 라벨인코딩\n",
    "for f in cat_features:\n",
    "    data[f] = LabelEncoder().fit_transform(data[f])"
   ]
  },
  {
   "cell_type": "code",
   "execution_count": 12,
   "id": "99e50952",
   "metadata": {},
   "outputs": [],
   "source": [
    "#위에서 떼어놨던 피처 병합\n",
    "data = pd.concat([data_SEQ, data],axis=1)\n",
    "data = pd.concat([data, y_data],axis=1)"
   ]
  },
  {
   "cell_type": "code",
   "execution_count": 14,
   "id": "f7b89aac",
   "metadata": {},
   "outputs": [],
   "source": [
    "#train과 test를 분리\n",
    "train = data.iloc[:23009,:]\n",
    "test = data.iloc[23009:,:]\n",
    "test = test.drop(columns = ['매칭성공여부']).reset_index(drop=True)"
   ]
  },
  {
   "cell_type": "markdown",
   "id": "ab56442d",
   "metadata": {},
   "source": [
    "### DNN in keras"
   ]
  },
  {
   "cell_type": "code",
   "execution_count": null,
   "id": "11cff6a1",
   "metadata": {},
   "outputs": [],
   "source": [
    "import tensorflow as tf\n",
    "from tensorflow import keras\n",
    "\n",
    "import sklearn\n",
    "from sklearn.metrics import confusion_matrix\n",
    "from sklearn.model_selection import train_test_split\n",
    "from sklearn.preprocessing import StandardScaler\n",
    "from sklearn.model_selection import train_test_split\n",
    "\n",
    "import os\n",
    "import tempfile\n",
    "import matplotlib as mpl\n",
    "import seaborn as sns\n",
    "# 검증을 위함\n",
    "from sklearn.metrics import roc_auc_score"
   ]
  },
  {
   "cell_type": "code",
   "execution_count": null,
   "id": "428189d3",
   "metadata": {},
   "outputs": [],
   "source": [
    "# 데이터 불균형 평가\n",
    "neg, pos = np.bincount(train['매칭성공여부'])\n",
    "total = neg + pos\n",
    "print('Examples:\\n    Total: {}\\n    Positive: {} ({:.2f}% of total)\\n'.format(\n",
    "    total, pos, 100 * pos / total))"
   ]
  },
  {
   "cell_type": "code",
   "execution_count": null,
   "id": "4943d280",
   "metadata": {},
   "outputs": [],
   "source": [
    "# 데이터 정의\n",
    "cleaned_df = train.copy()\n",
    "# You don't want the `Time` column.\n",
    "cleaned_df.pop('SEQ')"
   ]
  },
  {
   "cell_type": "code",
   "execution_count": null,
   "id": "f4e69740",
   "metadata": {},
   "outputs": [],
   "source": [
    "# Use a utility from sklearn to split and shuffle your dataset.\n",
    "train_df, test_df = train_test_split(cleaned_df, test_size=0.2)\n",
    "train_df, val_df = train_test_split(train_df, test_size=0.2)\n",
    "\n",
    "# Form np arrays of labels and features.\n",
    "train_labels = np.array(train_df.pop('매칭성공여부'))\n",
    "bool_train_labels = train_labels != 0\n",
    "val_labels = np.array(val_df.pop('매칭성공여부'))\n",
    "test_labels = np.array(test_df.pop('매칭성공여부'))\n",
    "\n",
    "#  스케일러 사용\n",
    "train_features = np.array(train_df)\n",
    "val_features = np.array(val_df)\n",
    "test_features = np.array(test_df)"
   ]
  },
  {
   "cell_type": "code",
   "execution_count": null,
   "id": "416b6cdc",
   "metadata": {},
   "outputs": [],
   "source": [
    "scaler = StandardScaler()\n",
    "\n",
    "# 정규화해줌\n",
    "train_features = scaler.fit_transform(train_features)\n",
    "val_features = scaler.transform(val_features)\n",
    "test_features = scaler.transform(test_features)\n",
    "\n",
    "train_features = np.clip(train_features, -5, 5)\n",
    "val_features = np.clip(val_features, -5, 5)\n",
    "test_features = np.clip(test_features, -5, 5)\n",
    "\n",
    "\n",
    "print('Training labels shape:', train_labels.shape)\n",
    "print('Validation labels shape:', val_labels.shape)\n",
    "print('Test labels shape:', test_labels.shape)\n",
    "\n",
    "print('Training features shape:', train_features.shape)\n",
    "print('Validation features shape:', val_features.shape)\n",
    "print('Test features shape:', test_features.shape)"
   ]
  },
  {
   "cell_type": "code",
   "execution_count": null,
   "id": "ab6a6112",
   "metadata": {},
   "outputs": [],
   "source": [
    "# def make_model(metrics=METRICS, output_bias=None):\n",
    "#     if output_bias is not None:\n",
    "#         output_bias = tf.keras.initializers.Constant(output_bias)\n",
    "#     model = keras.Sequential([\n",
    "#         keras.layers.Dense(256, activation='relu',input_shape=(train_features.shape[-1],)),\n",
    "#         keras.layers.Dropout(0.5),\n",
    "#         keras.layers.Dense(128, activation='selu'),\n",
    "#         keras.layers.Dropout(0.2),\n",
    "#         keras.layers.BatchNormalization(),\n",
    "#         keras.layers.Dense(32, activation='relu'),\n",
    "#         keras.layers.Dropout(0.5),\n",
    "#         keras.layers.Dense(16, activation='selu'),\n",
    "#         keras.layers.Dropout(0.2),\n",
    "#         keras.layers.Dense(1, activation='sigmoid',bias_initializer=output_bias),\n",
    "#   ])\n",
    "# val_loss .20"
   ]
  },
  {
   "cell_type": "code",
   "execution_count": null,
   "id": "d7caf183",
   "metadata": {},
   "outputs": [],
   "source": [
    "METRICS = [\n",
    "      keras.metrics.TruePositives(name='tp'),\n",
    "      keras.metrics.FalsePositives(name='fp'),\n",
    "      keras.metrics.TrueNegatives(name='tn'),\n",
    "      keras.metrics.FalseNegatives(name='fn'), \n",
    "      keras.metrics.BinaryAccuracy(name='accuracy'),\n",
    "      keras.metrics.Precision(name='precision'),\n",
    "      keras.metrics.Recall(name='recall'),\n",
    "      keras.metrics.AUC(name='auc'),\n",
    "      keras.metrics.AUC(name='prc', curve='PR'), # precision-recall curve\n",
    "]\n",
    "\n",
    "# 모델의 층을 쌓는 부분\n",
    "def make_model(metrics=METRICS, output_bias=None):\n",
    "    if output_bias is not None:\n",
    "        output_bias = tf.keras.initializers.Constant(output_bias)\n",
    "    model = keras.Sequential([\n",
    "        keras.layers.Dense(256, activation='relu',input_shape=(train_features.shape[-1],)),\n",
    "        keras.layers.Dropout(0.5),\n",
    "        keras.layers.Dense(128, activation='selu'),\n",
    "        keras.layers.Dropout(0.2),\n",
    "        keras.layers.BatchNormalization(),\n",
    "        keras.layers.Dense(32, activation='relu'),\n",
    "        keras.layers.Dropout(0.5),\n",
    "        keras.layers.Dense(16, activation='selu'),\n",
    "        keras.layers.Dropout(0.2),\n",
    "        keras.layers.Dense(1, activation='sigmoid',bias_initializer=output_bias),\n",
    "  ])\n",
    "\n",
    "    model.compile(\n",
    "        optimizer=keras.optimizers.Adam(learning_rate=1e-3),\n",
    "        loss=keras.losses.BinaryCrossentropy(),\n",
    "        metrics=metrics)\n",
    "    \n",
    "    return model"
   ]
  },
  {
   "cell_type": "code",
   "execution_count": null,
   "id": "2f77f605",
   "metadata": {},
   "outputs": [],
   "source": [
    "EPOCHS = 100\n",
    "BATCH_SIZE = 32\n",
    "\n",
    "early_stopping = tf.keras.callbacks.EarlyStopping(\n",
    "    monitor='loss', \n",
    "    verbose=1,\n",
    "    patience=10,\n",
    "    mode='min',\n",
    "    restore_best_weights=True)"
   ]
  },
  {
   "cell_type": "code",
   "execution_count": null,
   "id": "6aafb237",
   "metadata": {},
   "outputs": [],
   "source": [
    "model = make_model()\n",
    "model.summary()"
   ]
  },
  {
   "cell_type": "code",
   "execution_count": null,
   "id": "4b23bf71",
   "metadata": {},
   "outputs": [],
   "source": [
    "# 초기 가중치 체크 포인트\n",
    "# 다양한 학습 과정을 비교하려면 이 초기 모델의 가중치를 체크포인트 파일에 보관하고 학습 전에 각 모델에 로드\n",
    "initial_weights = os.path.join(tempfile.mkdtemp(), 'initial_weights')\n",
    "model.save_weights(initial_weights)"
   ]
  },
  {
   "cell_type": "code",
   "execution_count": null,
   "id": "5c940d82",
   "metadata": {},
   "outputs": [],
   "source": [
    "# 그래프 그릴때 색등을 지정\n",
    "mpl.rcParams['figure.figsize'] = (12, 10)\n",
    "colors = plt.rcParams['axes.prop_cycle'].by_key()['color']"
   ]
  },
  {
   "cell_type": "code",
   "execution_count": null,
   "id": "1f1c2ddc",
   "metadata": {},
   "outputs": [],
   "source": [
    "# loss를 그래프로 그려줌\n",
    "def plot_loss(history, label, n):\n",
    "  # Use a log scale to show the wide range of values.\n",
    "    plt.semilogy(history.epoch, history.history['loss'],\n",
    "               color=colors[n], label='Train '+label)\n",
    "    plt.semilogy(history.epoch, history.history['val_loss'],\n",
    "          color=colors[n], label='Val '+label,\n",
    "          linestyle=\"--\")\n",
    "    plt.xlabel('Epoch')\n",
    "    plt.ylabel('Loss')\n",
    "\n",
    "    plt.legend()"
   ]
  },
  {
   "cell_type": "code",
   "execution_count": null,
   "id": "6f708fdb",
   "metadata": {},
   "outputs": [],
   "source": [
    "# 학습이력 확인을 위한 함수\n",
    "def plot_metrics(history):\n",
    "    metrics = ['loss', 'auc', 'precision', 'recall']\n",
    "    for n, metric in enumerate(metrics):\n",
    "        name = metric.replace(\"_\",\" \").capitalize()\n",
    "        plt.subplot(2,2,n+1)\n",
    "        plt.plot(history.epoch, history.history[metric], color=colors[0], label='Train')\n",
    "        plt.plot(history.epoch, history.history['val_'+metric],\n",
    "                 color=colors[0], linestyle=\"--\", label='Val')\n",
    "        plt.xlabel('Epoch')\n",
    "        plt.ylabel(name)\n",
    "    if metric == 'loss':\n",
    "        plt.ylim([0, plt.ylim()[1]])\n",
    "    elif metric == 'auc':\n",
    "        plt.ylim([0.8,1])\n",
    "    else:\n",
    "        plt.ylim([0,1])\n",
    "\n",
    "    plt.legend()"
   ]
  },
  {
   "cell_type": "code",
   "execution_count": null,
   "id": "10be94ba",
   "metadata": {},
   "outputs": [],
   "source": [
    "def plot_cm(labels, predictions, p=0.5):\n",
    "    cm = confusion_matrix(labels, predictions > p)\n",
    "    plt.figure(figsize=(5,5))\n",
    "    sns.heatmap(cm, annot=True, fmt=\"d\")\n",
    "    plt.title('Confusion matrix @{:.2f}'.format(p))\n",
    "    plt.ylabel('Actual label')\n",
    "    plt.xlabel('Predicted label')\n",
    "\n",
    "    print('Legitimate Transactions Detected (True Negatives): ', cm[0][0])\n",
    "    print('Legitimate Transactions Incorrectly Detected (False Positives): ', cm[0][1])\n",
    "    print('Fraudulent Transactions Missed (False Negatives): ', cm[1][0])\n",
    "    print('Fraudulent Transactions Detected (True Positives): ', cm[1][1])\n",
    "    print('Total Fraudulent Transactions: ', np.sum(cm[1]))"
   ]
  },
  {
   "cell_type": "markdown",
   "id": "4cfa5a7e",
   "metadata": {},
   "source": [
    "- 오버샘플링"
   ]
  },
  {
   "cell_type": "code",
   "execution_count": null,
   "id": "ad9c7b84",
   "metadata": {},
   "outputs": [],
   "source": [
    "# 오버샘플링\n",
    "pos_features = train_features[bool_train_labels]\n",
    "neg_features = train_features[~bool_train_labels]\n",
    "\n",
    "pos_labels = train_labels[bool_train_labels]\n",
    "neg_labels = train_labels[~bool_train_labels]"
   ]
  },
  {
   "cell_type": "code",
   "execution_count": null,
   "id": "a6b63a2b",
   "metadata": {},
   "outputs": [],
   "source": [
    "# tf.data 사용\n",
    "BUFFER_SIZE = 100000\n",
    "\n",
    "def make_ds(features, labels):\n",
    "    ds = tf.data.Dataset.from_tensor_slices((features, labels))#.cache()\n",
    "    ds = ds.shuffle(BUFFER_SIZE).repeat()\n",
    "    return ds\n",
    "\n",
    "pos_ds = make_ds(pos_features, pos_labels)\n",
    "neg_ds = make_ds(neg_features, neg_labels)"
   ]
  },
  {
   "cell_type": "code",
   "execution_count": null,
   "id": "81f2ea3e",
   "metadata": {},
   "outputs": [],
   "source": [
    "for features, label in pos_ds.take(1):\n",
    "    print(\"Features:\\n\", features.numpy())\n",
    "    print()\n",
    "    print(\"Label: \", label.numpy())"
   ]
  },
  {
   "cell_type": "code",
   "execution_count": null,
   "id": "4e887302",
   "metadata": {},
   "outputs": [],
   "source": [
    "# experimental.sample_from_datasets 를 사용하여 두 가지를 병합\n",
    "resampled_ds = tf.data.experimental.sample_from_datasets([pos_ds, neg_ds], weights=[0.5, 0.5])\n",
    "resampled_ds = resampled_ds.batch(BATCH_SIZE).prefetch(2)"
   ]
  },
  {
   "cell_type": "code",
   "execution_count": null,
   "id": "1bf90792",
   "metadata": {},
   "outputs": [],
   "source": [
    "#이 데이터 세트를 사용하려면 epoch당 스텝 수가 필요\n",
    "resampled_steps_per_epoch = np.ceil(2.0*neg/BATCH_SIZE)\n",
    "# 초기 바이어스 조정\n",
    "initial_bias = np.log([pos/neg])"
   ]
  },
  {
   "cell_type": "code",
   "execution_count": null,
   "id": "722b659b",
   "metadata": {
    "scrolled": true
   },
   "outputs": [],
   "source": [
    "# 오버 샘플링 된 데이터에 대한 학습\n",
    "resampled_model = make_model()\n",
    "resampled_model.load_weights(initial_weights)\n",
    "\n",
    "# Reset the bias to zero, since this dataset is balanced.\n",
    "output_layer = resampled_model.layers[-1] \n",
    "output_layer.bias.assign([0])\n",
    "\n",
    "val_ds = tf.data.Dataset.from_tensor_slices((val_features, val_labels)).cache()\n",
    "val_ds = val_ds.batch(BATCH_SIZE).prefetch(2) \n",
    "\n",
    "resampled_history = resampled_model.fit(\n",
    "    resampled_ds,\n",
    "    epochs=EPOCHS,\n",
    "    steps_per_epoch=resampled_steps_per_epoch,\n",
    "    callbacks=[early_stopping],\n",
    "    validation_data=val_ds)"
   ]
  },
  {
   "cell_type": "code",
   "execution_count": 37,
   "id": "4176bace",
   "metadata": {},
   "outputs": [
    {
     "data": {
      "image/png": "[encoded data removed]",
      "text/plain": [
       "<Figure size 864x720 with 4 Axes>"
      ]
     },
     "metadata": {
      "needs_background": "light"
     },
     "output_type": "display_data"
    }
   ],
   "source": [
    "# 교육이력확인\n",
    "plot_metrics(resampled_history)"
   ]
  },
  {
   "cell_type": "code",
   "execution_count": 39,
   "id": "aef08fcf",
   "metadata": {
    "scrolled": true
   },
   "outputs": [],
   "source": [
    "# # 재교육 -> 사용하지 않음\n",
    "# resampled_model = make_model()\n",
    "# resampled_model.load_weights(initial_weights)\n",
    "\n",
    "# # Reset the bias to zero, since this dataset is balanced.\n",
    "# output_layer = resampled_model.layers[-1] \n",
    "# output_layer.bias.assign([0])\n",
    "\n",
    "# resampled_history = resampled_model.fit(\n",
    "#     resampled_ds,\n",
    "#     # These are not real epochs\n",
    "#     steps_per_epoch=30,\n",
    "#     epochs=10*EPOCHS,\n",
    "#     callbacks=[early_stopping],\n",
    "#     validation_data=(val_ds))"
   ]
  },
  {
   "cell_type": "code",
   "execution_count": 40,
   "id": "7ed0d1c2",
   "metadata": {},
   "outputs": [],
   "source": [
    "# # 재훈련 확인\n",
    "# plot_metrics(resampled_history)"
   ]
  },
  {
   "cell_type": "code",
   "execution_count": 38,
   "id": "7ee63d98",
   "metadata": {},
   "outputs": [
    {
     "name": "stdout",
     "output_type": "stream",
     "text": [
      "loss :  0.2707936763763428\n",
      "tp :  384.0\n",
      "fp :  464.0\n",
      "tn :  3680.0\n",
      "fn :  74.0\n",
      "accuracy :  0.883094310760498\n",
      "precision :  0.4528301954269409\n",
      "recall :  0.8384279608726501\n",
      "auc :  0.9267091155052185\n",
      "prc :  0.7374457716941833\n",
      "\n",
      "Legitimate Transactions Detected (True Negatives):  3680\n",
      "Legitimate Transactions Incorrectly Detected (False Positives):  464\n",
      "Fraudulent Transactions Missed (False Negatives):  74\n",
      "Fraudulent Transactions Detected (True Positives):  384\n",
      "Total Fraudulent Transactions:  458\n"
     ]
    },
    {
     "data": {
      "image/png": "[encoded data removed]",
      "text/plain": [
       "<Figure size 360x360 with 2 Axes>"
      ]
     },
     "metadata": {
      "needs_background": "light"
     },
     "output_type": "display_data"
    }
   ],
   "source": [
    "# 메트릭 평가\n",
    "train_predictions_resampled = resampled_model.predict(train_features, batch_size=BATCH_SIZE)\n",
    "test_predictions_resampled = resampled_model.predict(test_features, batch_size=BATCH_SIZE)\n",
    "resampled_results = resampled_model.evaluate(test_features, test_labels,\n",
    "                                             batch_size=BATCH_SIZE, verbose=0)\n",
    "for name, value in zip(resampled_model.metrics_names, resampled_results):\n",
    "    print(name, ': ', value)\n",
    "print()\n",
    "\n",
    "plot_cm(test_labels, test_predictions_resampled)"
   ]
  },
  {
   "cell_type": "code",
   "execution_count": 39,
   "id": "a48a2202",
   "metadata": {},
   "outputs": [
    {
     "data": {
      "text/plain": [
       "0.9295556473504071"
      ]
     },
     "execution_count": 39,
     "metadata": {},
     "output_type": "execute_result"
    }
   ],
   "source": [
    "# 검증\n",
    "roc_auc_score(test_labels, resampled_model.predict(test_features))"
   ]
  },
  {
   "cell_type": "code",
   "execution_count": 40,
   "id": "623cea52",
   "metadata": {},
   "outputs": [],
   "source": [
    "# 형식에 맞게 변형\n",
    "test = np.array(test.drop('SEQ', axis=1))\n",
    "# 정규화해줌\n",
    "test = scaler.fit_transform(test)\n",
    "test = np.clip(test, -5, 5)"
   ]
  },
  {
   "cell_type": "code",
   "execution_count": 41,
   "id": "535b03fa",
   "metadata": {},
   "outputs": [],
   "source": [
    "pred = resampled_model.predict(test)\n",
    "submission['pred'] = pred"
   ]
  },
  {
   "cell_type": "code",
   "execution_count": 42,
   "id": "b4a23067",
   "metadata": {},
   "outputs": [
    {
     "data": {
      "text/plain": [
       "717"
      ]
     },
     "execution_count": 42,
     "metadata": {},
     "output_type": "execute_result"
    }
   ],
   "source": [
    "len(submission.query('pred > 0.5'))"
   ]
  },
  {
   "cell_type": "code",
   "execution_count": 47,
   "id": "2029db1b",
   "metadata": {},
   "outputs": [],
   "source": [
    "beepsound()"
   ]
  },
  {
   "cell_type": "markdown",
   "id": "c52bb0f4",
   "metadata": {},
   "source": [
    "### Make submission "
   ]
  },
  {
   "cell_type": "code",
   "execution_count": 43,
   "id": "fb4a7a09",
   "metadata": {},
   "outputs": [
    {
     "name": "stdout",
     "output_type": "stream",
     "text": [
      "'submission_11222359.csv' is ready to submit.\n"
     ]
    }
   ],
   "source": [
    "t = pd.Timestamp.now()\n",
    "fname = f'submission_{t.month:02}{t.day:02}{t.hour:02}{t.minute:02}.csv'\n",
    "# fname = 'submission_나이대_xgb.csv'\n",
    "submission.to_csv('../submission/'+fname, index=False)\n",
    "print(\"'{}' is ready to submit.\" .format(fname))"
   ]
  },
  {
   "cell_type": "markdown",
   "id": "e2167eac",
   "metadata": {},
   "source": [
    "# END"
   ]
  }
 ],
 "metadata": {
  "kernelspec": {
   "display_name": "DL",
   "language": "python",
   "name": "dl"
  },
  "language_info": {
   "codemirror_mode": {
    "name": "ipython",
    "version": 3
   },
   "file_extension": ".py",
   "mimetype": "text/x-python",
   "name": "python",
   "nbconvert_exporter": "python",
   "pygments_lexer": "ipython3",
   "version": "3.8.11"
  }
 },
 "nbformat": 4,
 "nbformat_minor": 5
}
