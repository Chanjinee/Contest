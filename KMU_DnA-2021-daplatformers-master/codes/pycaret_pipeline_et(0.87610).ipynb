{
 "cells": [
  {
   "cell_type": "markdown",
   "id": "0c08e617",
   "metadata": {},
   "source": [
    "## 모듈 import"
   ]
  },
  {
   "cell_type": "code",
   "execution_count": 1,
   "id": "1134268d",
   "metadata": {},
   "outputs": [],
   "source": [
    "#모듈 import\n",
    "import pandas as pd\n",
    "import numpy as np\n",
    "import matplotlib.pyplot as plt\n",
    "%matplotlib inline\n",
    "from pycaret.classification  import *\n",
    "\n",
    "\n",
    "# feature selection\n",
    "from sklearn.tree import DecisionTreeClassifier\n",
    "import sys, warnings\n",
    "if not sys.warnoptions: warnings.simplefilter(\"ignore\")\n",
    "from sklearn.feature_selection import SelectPercentile\n",
    "from sklearn.model_selection import cross_val_score\n",
    "from tqdm import tqdm\n",
    "\n",
    "#Scailing\n",
    "from sklearn.preprocessing import PowerTransformer\n",
    "\n",
    "#Label Encoding\n",
    "from sklearn.preprocessing import LabelEncoder"
   ]
  },
  {
   "cell_type": "code",
   "execution_count": 2,
   "id": "1968852d",
   "metadata": {},
   "outputs": [],
   "source": [
    "#삡운드\n",
    "import winsound as sd\n",
    "# 삡싸운드\n",
    "def beepsound():\n",
    "    fr = 2000   # range : 37 ~ 32767\n",
    "    du = 1000 # 1000 ms ==1second\n",
    "    sd.Beep(fr, du) # winsound.Beep(frequency, duration)"
   ]
  },
  {
   "cell_type": "markdown",
   "id": "82fb57cb",
   "metadata": {},
   "source": [
    "## data 불러오기"
   ]
  },
  {
   "cell_type": "code",
   "execution_count": 3,
   "id": "0efe807b",
   "metadata": {},
   "outputs": [],
   "source": [
    "# 데이터가 저장된 경로 설정\n",
    "data_path = '../daplatformers2021/'\n",
    "\n",
    "# 데이터 불러오기\n",
    "train = pd.read_csv(data_path + 'trainset.csv')\n",
    "test = pd.read_csv(data_path + 'testset_final.csv')\n",
    "submission = pd.read_csv(data_path + 'sample_submission_final.csv')"
   ]
  },
  {
   "cell_type": "code",
   "execution_count": 4,
   "id": "196c02dc",
   "metadata": {},
   "outputs": [],
   "source": [
    "train = train.drop(columns=['매니저최초가입일', '매니저최초서비스일', '매니저주소'])"
   ]
  },
  {
   "cell_type": "markdown",
   "id": "17cb90da",
   "metadata": {},
   "source": [
    "### 전처리"
   ]
  },
  {
   "cell_type": "code",
   "execution_count": 1,
   "id": "e10ea124",
   "metadata": {
    "scrolled": true
   },
   "outputs": [],
   "source": [
    "data = pd.concat([train,test]).reset_index(drop=True)"
   ]
  },
  {
   "cell_type": "markdown",
   "id": "b990f4f0",
   "metadata": {},
   "source": [
    "- 결측치 채움"
   ]
  },
  {
   "cell_type": "code",
   "execution_count": 6,
   "id": "4201d7db",
   "metadata": {},
   "outputs": [],
   "source": [
    "### 결측치 제거\n",
    "\n",
    "# 결측치 0으로 채움\n",
    "data['청소교육이수여부'] = data['청소교육이수여부'].fillna(0)\n",
    "data['CS교육이수여부'] = data['CS교육이수여부'].fillna(0)\n",
    "data['부재중여부'] = data['부재중여부'].fillna(0)\n",
    "# 결측치 최빈값으로 채움\n",
    "data['매니저이동방법'] = data['매니저이동방법'].fillna(data['매니저이동방법'].mode()[0])\n",
    "data['매니저사용휴대폰'] = data['매니저사용휴대폰'].fillna(data['매니저사용휴대폰'].mode()[0])\n",
    "data['고객가입일'] = data['고객가입일'].fillna(data['고객가입일'].mode()[0]) #데이터 바뀌고 test에 생긴 에러\n",
    "data['결재형태'] = data['결재형태'].fillna(data['결재형태'].mode()[0]) #데이터 바뀌고 test에 생긴 에러\n",
    "\n",
    "data['접수시각'] = data['접수시각'].fillna(data['접수시각'].mode()[0])\n",
    "data['반려동물'] = data['반려동물'].fillna('없음')\n",
    "# 결측치 판단하여 없음으로 채움\n",
    "data['우선청소'] = data['우선청소'].fillna('없음')\n",
    "\n",
    "### 평수 평균 확인 -> 31.xx -> 30평대로 채움\n",
    "# (10*len(data.query('평수 == \"10평대\"')) + 20*len(data.query('평수 == \"20평대\"')) + \n",
    "#  30*len(data.query('평수 == \"30평대\"')) + 40*len(data.query('평수 == \"40평대이상\"')))/ \\\n",
    "# (len(data.query('평수 == \"10평대\"'))+len(data.query('평수 == \"20평대\"'))+\n",
    "#  len(data.query('평수 == \"30평대\"'))+len(data.query('평수 == \"40평대이상\"')))\n",
    "data['평수'] = data['평수'].fillna('30평대')"
   ]
  },
  {
   "cell_type": "code",
   "execution_count": 7,
   "id": "1f710304",
   "metadata": {},
   "outputs": [],
   "source": [
    "#test와 train의 구조를 맞춰줌\n",
    "data['매니저생년월일'] = data['매니저생년월일'].astype('str').apply(lambda x: x[0:4])\n",
    "# 새로운 피처 만들기\n",
    "data['매니저나이'] = data['매니저생년월일'].apply(lambda x: 2021-int(x))"
   ]
  },
  {
   "cell_type": "code",
   "execution_count": 8,
   "id": "6c5b7398",
   "metadata": {},
   "outputs": [],
   "source": [
    "# 저장해놓기\n",
    "data_SEQ = data.SEQ\n",
    "# 인코딩을 위하여 제거 / 이후 나중에 병합함\n",
    "y_data = data['매칭성공여부']\n",
    "data = data.drop(columns = ['SEQ','매칭성공여부'])"
   ]
  },
  {
   "cell_type": "markdown",
   "id": "87371d29",
   "metadata": {},
   "source": [
    "- Encoding, Scailing"
   ]
  },
  {
   "cell_type": "code",
   "execution_count": 9,
   "id": "a8946f87",
   "metadata": {},
   "outputs": [],
   "source": [
    "#라벨인코딩\n",
    "\n",
    "#범주형변수 수동으로 분리\n",
    "data[['장기서비스여부','기존고객여부','부재중여부','쿠폰사용여부','매니저성별',\n",
    "         'CS교육이수여부','청소교육이수여부','부재중서비스가능여부','추천인여부']\n",
    "     ] = data[['장기서비스여부','기존고객여부','부재중여부','쿠폰사용여부','매니저성별',\n",
    "         'CS교육이수여부','청소교육이수여부','부재중서비스가능여부','추천인여부'\n",
    "     ]].astype('str')\n",
    "\n",
    "# 범주형 변수와 수치형 변수를 분리\n",
    "cat_features = data.select_dtypes(include=['object']).columns.to_list()\n",
    "num_features = data.select_dtypes(exclude='object').columns.to_list() \n",
    "\n",
    "#수치형변수 scailing\n",
    "data[num_features] = PowerTransformer(standardize=True).fit_transform(data[num_features])\n",
    "\n",
    "#라벨인코딩\n",
    "#위의 범주형 변수들을 라벨인코딩\n",
    "for f in cat_features:\n",
    "    data[f] = LabelEncoder().fit_transform(data[f])\n",
    "\n",
    "#위에서 떼어놨던 피처 병합\n",
    "data = pd.concat([data_SEQ, data],axis=1)\n",
    "data = pd.concat([data, y_data],axis=1)"
   ]
  },
  {
   "cell_type": "markdown",
   "id": "04190043",
   "metadata": {},
   "source": [
    "- Data split"
   ]
  },
  {
   "cell_type": "code",
   "execution_count": 12,
   "id": "06b87cef",
   "metadata": {},
   "outputs": [],
   "source": [
    "#train과 test를 분리\n",
    "train = data.iloc[:23009,:]\n",
    "test = data.iloc[23009:,:]\n",
    "test = test.drop(columns = ['매칭성공여부']).reset_index(drop=True)"
   ]
  },
  {
   "cell_type": "markdown",
   "id": "e59fc121",
   "metadata": {},
   "source": [
    "### Feature selection-SelectPercentile"
   ]
  },
  {
   "cell_type": "code",
   "execution_count": 13,
   "id": "f8c95a61",
   "metadata": {},
   "outputs": [
    {
     "name": "stderr",
     "output_type": "stream",
     "text": [
      "100%|██████████████████████████████████████████████████████████████████████████████████| 95/95 [00:25<00:00,  3.73it/s]"
     ]
    },
    {
     "name": "stdout",
     "output_type": "stream",
     "text": [
      "(80, 0.8732507488470498)\n"
     ]
    },
    {
     "name": "stderr",
     "output_type": "stream",
     "text": [
      "\n"
     ]
    },
    {
     "data": {
      "image/png": "[encoded data removed]",
      "text/plain": [
       "<Figure size 432x288 with 1 Axes>"
      ]
     },
     "metadata": {
      "needs_background": "light"
     },
     "output_type": "display_data"
    }
   ],
   "source": [
    "train_seq = train['SEQ']\n",
    "test_seq = test['SEQ']\n",
    "y_train = train['매칭성공여부']\n",
    "train = train.drop(columns=['SEQ','매칭성공여부'])\n",
    "test = test.drop(columns=['SEQ'])\n",
    "\n",
    "# 사용할 모델 설정 (속도가 빠른 모델 사용 권장)\n",
    "model = DecisionTreeClassifier()\n",
    "\n",
    "# 각 특성과 타깃(class) 사이에 유의한 통계적 관계가 있는지 계산하여 특성을 선택하는 방법 \n",
    "cv_scores = []\n",
    "for p in tqdm(range(5,100,1)):\n",
    "    X_new = SelectPercentile(percentile=p).fit_transform(train, y_train)    \n",
    "    cv_score = cross_val_score(model, X_new, y_train, scoring='roc_auc', cv=5).mean()\n",
    "    cv_scores.append((p,cv_score))\n",
    "    \n",
    "    # Print the best percentile\n",
    "best_score = cv_scores[np.argmax([score for _, score in cv_scores])]\n",
    "print(best_score)\n",
    "\n",
    "# Plot the performance change with p\n",
    "plt.plot([k for k, _ in cv_scores], [score for _, score in cv_scores])\n",
    "plt.xlabel('Percent of features')\n",
    "plt.grid()"
   ]
  },
  {
   "cell_type": "code",
   "execution_count": 2,
   "id": "0d02edeb",
   "metadata": {
    "scrolled": false
   },
   "outputs": [],
   "source": [
    "# 위에서 구한 값으로 피처를 바꿔줌\n",
    "fs = SelectPercentile(percentile=best_score[0]).fit(train, y_train)\n",
    "train = fs.transform(train)\n",
    "test = fs.transform(test)\n",
    "\n",
    "# print(train.shape)\n",
    "# print(data.drop(columns=['매칭성공여부']).iloc[:,1:].columns[fs.get_support()].tolist())"
   ]
  },
  {
   "cell_type": "markdown",
   "id": "26f2488a",
   "metadata": {},
   "source": [
    "## Modeling with pycaret"
   ]
  },
  {
   "cell_type": "markdown",
   "id": "e1fa1205",
   "metadata": {},
   "source": [
    "- Model setting"
   ]
  },
  {
   "cell_type": "code",
   "execution_count": 15,
   "id": "add7c72e",
   "metadata": {},
   "outputs": [],
   "source": [
    "#pycaret에 넣도록 변형\n",
    "train = pd.concat([pd.DataFrame(train),y_train],axis=1)\n",
    "test = pd.concat([test_seq, pd.DataFrame(test)],axis=1)"
   ]
  },
  {
   "cell_type": "code",
   "execution_count": 17,
   "id": "648808f1",
   "metadata": {},
   "outputs": [
    {
     "data": {
      "text/html": [
       "<style type=\"text/css\">\n",
       "#T_53703_row15_col1 {\n",
       "  background-color: lightgreen;\n",
       "}\n",
       "</style>\n",
       "<table id=\"T_53703_\">\n",
       "  <thead>\n",
       "    <tr>\n",
       "      <th class=\"blank level0\" >&nbsp;</th>\n",
       "      <th class=\"col_heading level0 col0\" >Description</th>\n",
       "      <th class=\"col_heading level0 col1\" >Value</th>\n",
       "    </tr>\n",
       "  </thead>\n",
       "  <tbody>\n",
       "    <tr>\n",
       "      <th id=\"T_53703_level0_row0\" class=\"row_heading level0 row0\" >0</th>\n",
       "      <td id=\"T_53703_row0_col0\" class=\"data row0 col0\" >session_id</td>\n",
       "      <td id=\"T_53703_row0_col1\" class=\"data row0 col1\" >42</td>\n",
       "    </tr>\n",
       "    <tr>\n",
       "      <th id=\"T_53703_level0_row1\" class=\"row_heading level0 row1\" >1</th>\n",
       "      <td id=\"T_53703_row1_col0\" class=\"data row1 col0\" >Target</td>\n",
       "      <td id=\"T_53703_row1_col1\" class=\"data row1 col1\" >매칭성공여부</td>\n",
       "    </tr>\n",
       "    <tr>\n",
       "      <th id=\"T_53703_level0_row2\" class=\"row_heading level0 row2\" >2</th>\n",
       "      <td id=\"T_53703_row2_col0\" class=\"data row2 col0\" >Target Type</td>\n",
       "      <td id=\"T_53703_row2_col1\" class=\"data row2 col1\" >Binary</td>\n",
       "    </tr>\n",
       "    <tr>\n",
       "      <th id=\"T_53703_level0_row3\" class=\"row_heading level0 row3\" >3</th>\n",
       "      <td id=\"T_53703_row3_col0\" class=\"data row3 col0\" >Label Encoded</td>\n",
       "      <td id=\"T_53703_row3_col1\" class=\"data row3 col1\" >0.0: 0, 1.0: 1</td>\n",
       "    </tr>\n",
       "    <tr>\n",
       "      <th id=\"T_53703_level0_row4\" class=\"row_heading level0 row4\" >4</th>\n",
       "      <td id=\"T_53703_row4_col0\" class=\"data row4 col0\" >Original Data</td>\n",
       "      <td id=\"T_53703_row4_col1\" class=\"data row4 col1\" >(23009, 24)</td>\n",
       "    </tr>\n",
       "    <tr>\n",
       "      <th id=\"T_53703_level0_row5\" class=\"row_heading level0 row5\" >5</th>\n",
       "      <td id=\"T_53703_row5_col0\" class=\"data row5 col0\" >Missing Values</td>\n",
       "      <td id=\"T_53703_row5_col1\" class=\"data row5 col1\" >False</td>\n",
       "    </tr>\n",
       "    <tr>\n",
       "      <th id=\"T_53703_level0_row6\" class=\"row_heading level0 row6\" >6</th>\n",
       "      <td id=\"T_53703_row6_col0\" class=\"data row6 col0\" >Numeric Features</td>\n",
       "      <td id=\"T_53703_row6_col1\" class=\"data row6 col1\" >16</td>\n",
       "    </tr>\n",
       "    <tr>\n",
       "      <th id=\"T_53703_level0_row7\" class=\"row_heading level0 row7\" >7</th>\n",
       "      <td id=\"T_53703_row7_col0\" class=\"data row7 col0\" >Categorical Features</td>\n",
       "      <td id=\"T_53703_row7_col1\" class=\"data row7 col1\" >7</td>\n",
       "    </tr>\n",
       "    <tr>\n",
       "      <th id=\"T_53703_level0_row8\" class=\"row_heading level0 row8\" >8</th>\n",
       "      <td id=\"T_53703_row8_col0\" class=\"data row8 col0\" >Transformed Train Set</td>\n",
       "      <td id=\"T_53703_row8_col1\" class=\"data row8 col1\" >(22985, 23)</td>\n",
       "    </tr>\n",
       "    <tr>\n",
       "      <th id=\"T_53703_level0_row9\" class=\"row_heading level0 row9\" >9</th>\n",
       "      <td id=\"T_53703_row9_col0\" class=\"data row9 col0\" >Transformed Test Set</td>\n",
       "      <td id=\"T_53703_row9_col1\" class=\"data row9 col1\" >(24, 23)</td>\n",
       "    </tr>\n",
       "    <tr>\n",
       "      <th id=\"T_53703_level0_row10\" class=\"row_heading level0 row10\" >10</th>\n",
       "      <td id=\"T_53703_row10_col0\" class=\"data row10 col0\" >Shuffle Train-Test</td>\n",
       "      <td id=\"T_53703_row10_col1\" class=\"data row10 col1\" >True</td>\n",
       "    </tr>\n",
       "    <tr>\n",
       "      <th id=\"T_53703_level0_row11\" class=\"row_heading level0 row11\" >11</th>\n",
       "      <td id=\"T_53703_row11_col0\" class=\"data row11 col0\" >Stratify Train-Test</td>\n",
       "      <td id=\"T_53703_row11_col1\" class=\"data row11 col1\" >False</td>\n",
       "    </tr>\n",
       "    <tr>\n",
       "      <th id=\"T_53703_level0_row12\" class=\"row_heading level0 row12\" >12</th>\n",
       "      <td id=\"T_53703_row12_col0\" class=\"data row12 col0\" >Fold Generator</td>\n",
       "      <td id=\"T_53703_row12_col1\" class=\"data row12 col1\" >StratifiedKFold</td>\n",
       "    </tr>\n",
       "    <tr>\n",
       "      <th id=\"T_53703_level0_row13\" class=\"row_heading level0 row13\" >13</th>\n",
       "      <td id=\"T_53703_row13_col0\" class=\"data row13 col0\" >Fold Number</td>\n",
       "      <td id=\"T_53703_row13_col1\" class=\"data row13 col1\" >10</td>\n",
       "    </tr>\n",
       "    <tr>\n",
       "      <th id=\"T_53703_level0_row14\" class=\"row_heading level0 row14\" >14</th>\n",
       "      <td id=\"T_53703_row14_col0\" class=\"data row14 col0\" >CPU Jobs</td>\n",
       "      <td id=\"T_53703_row14_col1\" class=\"data row14 col1\" >-1</td>\n",
       "    </tr>\n",
       "    <tr>\n",
       "      <th id=\"T_53703_level0_row15\" class=\"row_heading level0 row15\" >15</th>\n",
       "      <td id=\"T_53703_row15_col0\" class=\"data row15 col0\" >Use GPU</td>\n",
       "      <td id=\"T_53703_row15_col1\" class=\"data row15 col1\" >True</td>\n",
       "    </tr>\n",
       "    <tr>\n",
       "      <th id=\"T_53703_level0_row16\" class=\"row_heading level0 row16\" >16</th>\n",
       "      <td id=\"T_53703_row16_col0\" class=\"data row16 col0\" >Log Experiment</td>\n",
       "      <td id=\"T_53703_row16_col1\" class=\"data row16 col1\" >False</td>\n",
       "    </tr>\n",
       "    <tr>\n",
       "      <th id=\"T_53703_level0_row17\" class=\"row_heading level0 row17\" >17</th>\n",
       "      <td id=\"T_53703_row17_col0\" class=\"data row17 col0\" >Experiment Name</td>\n",
       "      <td id=\"T_53703_row17_col1\" class=\"data row17 col1\" >clf-default-name</td>\n",
       "    </tr>\n",
       "    <tr>\n",
       "      <th id=\"T_53703_level0_row18\" class=\"row_heading level0 row18\" >18</th>\n",
       "      <td id=\"T_53703_row18_col0\" class=\"data row18 col0\" >USI</td>\n",
       "      <td id=\"T_53703_row18_col1\" class=\"data row18 col1\" >5e08</td>\n",
       "    </tr>\n",
       "    <tr>\n",
       "      <th id=\"T_53703_level0_row19\" class=\"row_heading level0 row19\" >19</th>\n",
       "      <td id=\"T_53703_row19_col0\" class=\"data row19 col0\" >Fix Imbalance</td>\n",
       "      <td id=\"T_53703_row19_col1\" class=\"data row19 col1\" >False</td>\n",
       "    </tr>\n",
       "    <tr>\n",
       "      <th id=\"T_53703_level0_row20\" class=\"row_heading level0 row20\" >20</th>\n",
       "      <td id=\"T_53703_row20_col0\" class=\"data row20 col0\" >Fix Imbalance Method</td>\n",
       "      <td id=\"T_53703_row20_col1\" class=\"data row20 col1\" >SMOTE</td>\n",
       "    </tr>\n",
       "  </tbody>\n",
       "</table>\n"
      ],
      "text/plain": [
       "<pandas.io.formats.style.Styler at 0x24f30596130>"
      ]
     },
     "metadata": {},
     "output_type": "display_data"
    }
   ],
   "source": [
    "reg = setup(train, \n",
    "            preprocess = False, # True로 설정되면, 자체적인 Feature Engineering을 추가로 진행해 Predict가 불가능해진다.\n",
    "            train_size = 0.999,  # 우리는 전체 데이터를 학습해 test를 예측하는게 목표이기 때문에, 0.999로 설정한다.\n",
    "            target = '매칭성공여부', # 목표 변수는 매칭성공여부이다.\n",
    "            silent = True, # 엔터를 누르기 귀찮다. 궁금하면 풀어보세요\n",
    "            use_gpu = True, # GPU가 있으면 사용하세요 (Cat BOost 속도 향상)\n",
    "#             numeric_features=['전체회차','현재회차'], # 숫자로써의 의미가 있다.\n",
    "            session_id = 42,\n",
    "            fold_shuffle = True\n",
    "            )"
   ]
  },
  {
   "cell_type": "code",
   "execution_count": 18,
   "id": "3d8c6ab6",
   "metadata": {},
   "outputs": [
    {
     "data": {
      "text/html": [
       "<style type=\"text/css\">\n",
       "#T_cf010_ th {\n",
       "  text-align: left;\n",
       "}\n",
       "#T_cf010_row0_col0, #T_cf010_row0_col1, #T_cf010_row0_col3, #T_cf010_row0_col4, #T_cf010_row0_col5, #T_cf010_row0_col6, #T_cf010_row0_col7, #T_cf010_row1_col0, #T_cf010_row1_col1, #T_cf010_row1_col2, #T_cf010_row1_col3, #T_cf010_row1_col5, #T_cf010_row1_col6, #T_cf010_row1_col7, #T_cf010_row2_col0, #T_cf010_row2_col2, #T_cf010_row2_col3, #T_cf010_row2_col4, #T_cf010_row3_col0, #T_cf010_row3_col1, #T_cf010_row3_col2, #T_cf010_row3_col4, #T_cf010_row3_col5, #T_cf010_row3_col6, #T_cf010_row3_col7, #T_cf010_row4_col0, #T_cf010_row4_col1, #T_cf010_row4_col2, #T_cf010_row4_col3, #T_cf010_row4_col4, #T_cf010_row4_col5, #T_cf010_row4_col6, #T_cf010_row4_col7, #T_cf010_row5_col0, #T_cf010_row5_col1, #T_cf010_row5_col2, #T_cf010_row5_col3, #T_cf010_row5_col4, #T_cf010_row5_col5, #T_cf010_row5_col6, #T_cf010_row5_col7, #T_cf010_row6_col0, #T_cf010_row6_col1, #T_cf010_row6_col2, #T_cf010_row6_col3, #T_cf010_row6_col4, #T_cf010_row6_col5, #T_cf010_row6_col6, #T_cf010_row6_col7, #T_cf010_row7_col0, #T_cf010_row7_col1, #T_cf010_row7_col2, #T_cf010_row7_col3, #T_cf010_row7_col4, #T_cf010_row7_col5, #T_cf010_row7_col6, #T_cf010_row7_col7, #T_cf010_row8_col0, #T_cf010_row8_col1, #T_cf010_row8_col2, #T_cf010_row8_col3, #T_cf010_row8_col4, #T_cf010_row8_col5, #T_cf010_row8_col6, #T_cf010_row8_col7, #T_cf010_row9_col0, #T_cf010_row9_col1, #T_cf010_row9_col2, #T_cf010_row9_col3, #T_cf010_row9_col4, #T_cf010_row9_col5, #T_cf010_row9_col6, #T_cf010_row9_col7, #T_cf010_row10_col0, #T_cf010_row10_col1, #T_cf010_row10_col2, #T_cf010_row10_col3, #T_cf010_row10_col4, #T_cf010_row10_col5, #T_cf010_row10_col6, #T_cf010_row10_col7, #T_cf010_row11_col0, #T_cf010_row11_col1, #T_cf010_row11_col2, #T_cf010_row11_col3, #T_cf010_row11_col4, #T_cf010_row11_col5, #T_cf010_row11_col6, #T_cf010_row11_col7, #T_cf010_row12_col0, #T_cf010_row12_col1, #T_cf010_row12_col2, #T_cf010_row12_col3, #T_cf010_row12_col4, #T_cf010_row12_col5, #T_cf010_row12_col6, #T_cf010_row12_col7, #T_cf010_row13_col0, #T_cf010_row13_col1, #T_cf010_row13_col2, #T_cf010_row13_col3, #T_cf010_row13_col4, #T_cf010_row13_col5, #T_cf010_row13_col6, #T_cf010_row13_col7, #T_cf010_row14_col0, #T_cf010_row14_col1, #T_cf010_row14_col2, #T_cf010_row14_col3, #T_cf010_row14_col4, #T_cf010_row14_col5, #T_cf010_row14_col6, #T_cf010_row14_col7 {\n",
       "  text-align: left;\n",
       "}\n",
       "#T_cf010_row0_col2, #T_cf010_row1_col4, #T_cf010_row2_col1, #T_cf010_row2_col5, #T_cf010_row2_col6, #T_cf010_row2_col7, #T_cf010_row3_col3 {\n",
       "  text-align: left;\n",
       "  background-color: yellow;\n",
       "}\n",
       "#T_cf010_row0_col8, #T_cf010_row1_col8, #T_cf010_row2_col8, #T_cf010_row3_col8, #T_cf010_row4_col8, #T_cf010_row5_col8, #T_cf010_row6_col8, #T_cf010_row7_col8, #T_cf010_row8_col8, #T_cf010_row9_col8, #T_cf010_row10_col8, #T_cf010_row11_col8, #T_cf010_row12_col8 {\n",
       "  text-align: left;\n",
       "  background-color: lightgrey;\n",
       "}\n",
       "#T_cf010_row13_col8, #T_cf010_row14_col8 {\n",
       "  text-align: left;\n",
       "  background-color: yellow;\n",
       "  background-color: lightgrey;\n",
       "}\n",
       "</style>\n",
       "<table id=\"T_cf010_\">\n",
       "  <thead>\n",
       "    <tr>\n",
       "      <th class=\"blank level0\" >&nbsp;</th>\n",
       "      <th class=\"col_heading level0 col0\" >Model</th>\n",
       "      <th class=\"col_heading level0 col1\" >Accuracy</th>\n",
       "      <th class=\"col_heading level0 col2\" >AUC</th>\n",
       "      <th class=\"col_heading level0 col3\" >Recall</th>\n",
       "      <th class=\"col_heading level0 col4\" >Prec.</th>\n",
       "      <th class=\"col_heading level0 col5\" >F1</th>\n",
       "      <th class=\"col_heading level0 col6\" >Kappa</th>\n",
       "      <th class=\"col_heading level0 col7\" >MCC</th>\n",
       "      <th class=\"col_heading level0 col8\" >TT (Sec)</th>\n",
       "    </tr>\n",
       "  </thead>\n",
       "  <tbody>\n",
       "    <tr>\n",
       "      <th id=\"T_cf010_level0_row0\" class=\"row_heading level0 row0\" >rf</th>\n",
       "      <td id=\"T_cf010_row0_col0\" class=\"data row0 col0\" >Random Forest Classifier</td>\n",
       "      <td id=\"T_cf010_row0_col1\" class=\"data row0 col1\" >0.9613</td>\n",
       "      <td id=\"T_cf010_row0_col2\" class=\"data row0 col2\" >0.9656</td>\n",
       "      <td id=\"T_cf010_row0_col3\" class=\"data row0 col3\" >0.6524</td>\n",
       "      <td id=\"T_cf010_row0_col4\" class=\"data row0 col4\" >0.9195</td>\n",
       "      <td id=\"T_cf010_row0_col5\" class=\"data row0 col5\" >0.7630</td>\n",
       "      <td id=\"T_cf010_row0_col6\" class=\"data row0 col6\" >0.7425</td>\n",
       "      <td id=\"T_cf010_row0_col7\" class=\"data row0 col7\" >0.7557</td>\n",
       "      <td id=\"T_cf010_row0_col8\" class=\"data row0 col8\" >0.6680</td>\n",
       "    </tr>\n",
       "    <tr>\n",
       "      <th id=\"T_cf010_level0_row1\" class=\"row_heading level0 row1\" >catboost</th>\n",
       "      <td id=\"T_cf010_row1_col0\" class=\"data row1 col0\" >CatBoost Classifier</td>\n",
       "      <td id=\"T_cf010_row1_col1\" class=\"data row1 col1\" >0.9431</td>\n",
       "      <td id=\"T_cf010_row1_col2\" class=\"data row1 col2\" >0.9560</td>\n",
       "      <td id=\"T_cf010_row1_col3\" class=\"data row1 col3\" >0.4400</td>\n",
       "      <td id=\"T_cf010_row1_col4\" class=\"data row1 col4\" >0.9267</td>\n",
       "      <td id=\"T_cf010_row1_col5\" class=\"data row1 col5\" >0.5960</td>\n",
       "      <td id=\"T_cf010_row1_col6\" class=\"data row1 col6\" >0.5696</td>\n",
       "      <td id=\"T_cf010_row1_col7\" class=\"data row1 col7\" >0.6160</td>\n",
       "      <td id=\"T_cf010_row1_col8\" class=\"data row1 col8\" >7.2180</td>\n",
       "    </tr>\n",
       "    <tr>\n",
       "      <th id=\"T_cf010_level0_row2\" class=\"row_heading level0 row2\" >et</th>\n",
       "      <td id=\"T_cf010_row2_col0\" class=\"data row2 col0\" >Extra Trees Classifier</td>\n",
       "      <td id=\"T_cf010_row2_col1\" class=\"data row2 col1\" >0.9619</td>\n",
       "      <td id=\"T_cf010_row2_col2\" class=\"data row2 col2\" >0.9524</td>\n",
       "      <td id=\"T_cf010_row2_col3\" class=\"data row2 col3\" >0.7061</td>\n",
       "      <td id=\"T_cf010_row2_col4\" class=\"data row2 col4\" >0.8714</td>\n",
       "      <td id=\"T_cf010_row2_col5\" class=\"data row2 col5\" >0.7800</td>\n",
       "      <td id=\"T_cf010_row2_col6\" class=\"data row2 col6\" >0.7594</td>\n",
       "      <td id=\"T_cf010_row2_col7\" class=\"data row2 col7\" >0.7645</td>\n",
       "      <td id=\"T_cf010_row2_col8\" class=\"data row2 col8\" >0.7920</td>\n",
       "    </tr>\n",
       "    <tr>\n",
       "      <th id=\"T_cf010_level0_row3\" class=\"row_heading level0 row3\" >dt</th>\n",
       "      <td id=\"T_cf010_row3_col0\" class=\"data row3 col0\" >Decision Tree Classifier</td>\n",
       "      <td id=\"T_cf010_row3_col1\" class=\"data row3 col1\" >0.9476</td>\n",
       "      <td id=\"T_cf010_row3_col2\" class=\"data row3 col2\" >0.8669</td>\n",
       "      <td id=\"T_cf010_row3_col3\" class=\"data row3 col3\" >0.7575</td>\n",
       "      <td id=\"T_cf010_row3_col4\" class=\"data row3 col4\" >0.7127</td>\n",
       "      <td id=\"T_cf010_row3_col5\" class=\"data row3 col5\" >0.7343</td>\n",
       "      <td id=\"T_cf010_row3_col6\" class=\"data row3 col6\" >0.7052</td>\n",
       "      <td id=\"T_cf010_row3_col7\" class=\"data row3 col7\" >0.7057</td>\n",
       "      <td id=\"T_cf010_row3_col8\" class=\"data row3 col8\" >0.1240</td>\n",
       "    </tr>\n",
       "    <tr>\n",
       "      <th id=\"T_cf010_level0_row4\" class=\"row_heading level0 row4\" >gbc</th>\n",
       "      <td id=\"T_cf010_row4_col0\" class=\"data row4 col0\" >Gradient Boosting Classifier</td>\n",
       "      <td id=\"T_cf010_row4_col1\" class=\"data row4 col1\" >0.9073</td>\n",
       "      <td id=\"T_cf010_row4_col2\" class=\"data row4 col2\" >0.8102</td>\n",
       "      <td id=\"T_cf010_row4_col3\" class=\"data row4 col3\" >0.0355</td>\n",
       "      <td id=\"T_cf010_row4_col4\" class=\"data row4 col4\" >0.8452</td>\n",
       "      <td id=\"T_cf010_row4_col5\" class=\"data row4 col5\" >0.0676</td>\n",
       "      <td id=\"T_cf010_row4_col6\" class=\"data row4 col6\" >0.0608</td>\n",
       "      <td id=\"T_cf010_row4_col7\" class=\"data row4 col7\" >0.1570</td>\n",
       "      <td id=\"T_cf010_row4_col8\" class=\"data row4 col8\" >2.0420</td>\n",
       "    </tr>\n",
       "    <tr>\n",
       "      <th id=\"T_cf010_level0_row5\" class=\"row_heading level0 row5\" >qda</th>\n",
       "      <td id=\"T_cf010_row5_col0\" class=\"data row5 col0\" >Quadratic Discriminant Analysis</td>\n",
       "      <td id=\"T_cf010_row5_col1\" class=\"data row5 col1\" >0.9003</td>\n",
       "      <td id=\"T_cf010_row5_col2\" class=\"data row5 col2\" >0.6935</td>\n",
       "      <td id=\"T_cf010_row5_col3\" class=\"data row5 col3\" >0.0732</td>\n",
       "      <td id=\"T_cf010_row5_col4\" class=\"data row5 col4\" >0.4054</td>\n",
       "      <td id=\"T_cf010_row5_col5\" class=\"data row5 col5\" >0.1203</td>\n",
       "      <td id=\"T_cf010_row5_col6\" class=\"data row5 col6\" >0.0939</td>\n",
       "      <td id=\"T_cf010_row5_col7\" class=\"data row5 col7\" >0.1351</td>\n",
       "      <td id=\"T_cf010_row5_col8\" class=\"data row5 col8\" >0.0800</td>\n",
       "    </tr>\n",
       "    <tr>\n",
       "      <th id=\"T_cf010_level0_row6\" class=\"row_heading level0 row6\" >knn</th>\n",
       "      <td id=\"T_cf010_row6_col0\" class=\"data row6 col0\" >K Neighbors Classifier</td>\n",
       "      <td id=\"T_cf010_row6_col1\" class=\"data row6 col1\" >0.9012</td>\n",
       "      <td id=\"T_cf010_row6_col2\" class=\"data row6 col2\" >0.5557</td>\n",
       "      <td id=\"T_cf010_row6_col3\" class=\"data row6 col3\" >0.0150</td>\n",
       "      <td id=\"T_cf010_row6_col4\" class=\"data row6 col4\" >0.2347</td>\n",
       "      <td id=\"T_cf010_row6_col5\" class=\"data row6 col5\" >0.0282</td>\n",
       "      <td id=\"T_cf010_row6_col6\" class=\"data row6 col6\" >0.0170</td>\n",
       "      <td id=\"T_cf010_row6_col7\" class=\"data row6 col7\" >0.0371</td>\n",
       "      <td id=\"T_cf010_row6_col8\" class=\"data row6 col8\" >0.9420</td>\n",
       "    </tr>\n",
       "    <tr>\n",
       "      <th id=\"T_cf010_level0_row7\" class=\"row_heading level0 row7\" >lda</th>\n",
       "      <td id=\"T_cf010_row7_col0\" class=\"data row7 col0\" >Linear Discriminant Analysis</td>\n",
       "      <td id=\"T_cf010_row7_col1\" class=\"data row7 col1\" >0.9044</td>\n",
       "      <td id=\"T_cf010_row7_col2\" class=\"data row7 col2\" >0.5183</td>\n",
       "      <td id=\"T_cf010_row7_col3\" class=\"data row7 col3\" >0.0000</td>\n",
       "      <td id=\"T_cf010_row7_col4\" class=\"data row7 col4\" >0.0000</td>\n",
       "      <td id=\"T_cf010_row7_col5\" class=\"data row7 col5\" >0.0000</td>\n",
       "      <td id=\"T_cf010_row7_col6\" class=\"data row7 col6\" >0.0000</td>\n",
       "      <td id=\"T_cf010_row7_col7\" class=\"data row7 col7\" >0.0000</td>\n",
       "      <td id=\"T_cf010_row7_col8\" class=\"data row7 col8\" >0.1020</td>\n",
       "    </tr>\n",
       "    <tr>\n",
       "      <th id=\"T_cf010_level0_row8\" class=\"row_heading level0 row8\" >lr</th>\n",
       "      <td id=\"T_cf010_row8_col0\" class=\"data row8 col0\" >Logistic Regression</td>\n",
       "      <td id=\"T_cf010_row8_col1\" class=\"data row8 col1\" >0.9044</td>\n",
       "      <td id=\"T_cf010_row8_col2\" class=\"data row8 col2\" >0.5168</td>\n",
       "      <td id=\"T_cf010_row8_col3\" class=\"data row8 col3\" >0.0000</td>\n",
       "      <td id=\"T_cf010_row8_col4\" class=\"data row8 col4\" >0.0000</td>\n",
       "      <td id=\"T_cf010_row8_col5\" class=\"data row8 col5\" >0.0000</td>\n",
       "      <td id=\"T_cf010_row8_col6\" class=\"data row8 col6\" >0.0000</td>\n",
       "      <td id=\"T_cf010_row8_col7\" class=\"data row8 col7\" >0.0000</td>\n",
       "      <td id=\"T_cf010_row8_col8\" class=\"data row8 col8\" >1.0960</td>\n",
       "    </tr>\n",
       "    <tr>\n",
       "      <th id=\"T_cf010_level0_row9\" class=\"row_heading level0 row9\" >nb</th>\n",
       "      <td id=\"T_cf010_row9_col0\" class=\"data row9 col0\" >Naive Bayes</td>\n",
       "      <td id=\"T_cf010_row9_col1\" class=\"data row9 col1\" >0.9044</td>\n",
       "      <td id=\"T_cf010_row9_col2\" class=\"data row9 col2\" >0.5165</td>\n",
       "      <td id=\"T_cf010_row9_col3\" class=\"data row9 col3\" >0.0000</td>\n",
       "      <td id=\"T_cf010_row9_col4\" class=\"data row9 col4\" >0.0000</td>\n",
       "      <td id=\"T_cf010_row9_col5\" class=\"data row9 col5\" >0.0000</td>\n",
       "      <td id=\"T_cf010_row9_col6\" class=\"data row9 col6\" >0.0000</td>\n",
       "      <td id=\"T_cf010_row9_col7\" class=\"data row9 col7\" >0.0000</td>\n",
       "      <td id=\"T_cf010_row9_col8\" class=\"data row9 col8\" >0.0660</td>\n",
       "    </tr>\n",
       "    <tr>\n",
       "      <th id=\"T_cf010_level0_row10\" class=\"row_heading level0 row10\" >ada</th>\n",
       "      <td id=\"T_cf010_row10_col0\" class=\"data row10 col0\" >Ada Boost Classifier</td>\n",
       "      <td id=\"T_cf010_row10_col1\" class=\"data row10 col1\" >0.9044</td>\n",
       "      <td id=\"T_cf010_row10_col2\" class=\"data row10 col2\" >0.4994</td>\n",
       "      <td id=\"T_cf010_row10_col3\" class=\"data row10 col3\" >0.0000</td>\n",
       "      <td id=\"T_cf010_row10_col4\" class=\"data row10 col4\" >0.0000</td>\n",
       "      <td id=\"T_cf010_row10_col5\" class=\"data row10 col5\" >0.0000</td>\n",
       "      <td id=\"T_cf010_row10_col6\" class=\"data row10 col6\" >0.0000</td>\n",
       "      <td id=\"T_cf010_row10_col7\" class=\"data row10 col7\" >0.0000</td>\n",
       "      <td id=\"T_cf010_row10_col8\" class=\"data row10 col8\" >2.5980</td>\n",
       "    </tr>\n",
       "    <tr>\n",
       "      <th id=\"T_cf010_level0_row11\" class=\"row_heading level0 row11\" >svm</th>\n",
       "      <td id=\"T_cf010_row11_col0\" class=\"data row11 col0\" >SVM - Linear Kernel</td>\n",
       "      <td id=\"T_cf010_row11_col1\" class=\"data row11 col1\" >0.8961</td>\n",
       "      <td id=\"T_cf010_row11_col2\" class=\"data row11 col2\" >0.0000</td>\n",
       "      <td id=\"T_cf010_row11_col3\" class=\"data row11 col3\" >0.0109</td>\n",
       "      <td id=\"T_cf010_row11_col4\" class=\"data row11 col4\" >0.0201</td>\n",
       "      <td id=\"T_cf010_row11_col5\" class=\"data row11 col5\" >0.0141</td>\n",
       "      <td id=\"T_cf010_row11_col6\" class=\"data row11 col6\" >0.0007</td>\n",
       "      <td id=\"T_cf010_row11_col7\" class=\"data row11 col7\" >0.0007</td>\n",
       "      <td id=\"T_cf010_row11_col8\" class=\"data row11 col8\" >0.3520</td>\n",
       "    </tr>\n",
       "    <tr>\n",
       "      <th id=\"T_cf010_level0_row12\" class=\"row_heading level0 row12\" >ridge</th>\n",
       "      <td id=\"T_cf010_row12_col0\" class=\"data row12 col0\" >Ridge Classifier</td>\n",
       "      <td id=\"T_cf010_row12_col1\" class=\"data row12 col1\" >0.9044</td>\n",
       "      <td id=\"T_cf010_row12_col2\" class=\"data row12 col2\" >0.0000</td>\n",
       "      <td id=\"T_cf010_row12_col3\" class=\"data row12 col3\" >0.0000</td>\n",
       "      <td id=\"T_cf010_row12_col4\" class=\"data row12 col4\" >0.0000</td>\n",
       "      <td id=\"T_cf010_row12_col5\" class=\"data row12 col5\" >0.0000</td>\n",
       "      <td id=\"T_cf010_row12_col6\" class=\"data row12 col6\" >0.0000</td>\n",
       "      <td id=\"T_cf010_row12_col7\" class=\"data row12 col7\" >0.0000</td>\n",
       "      <td id=\"T_cf010_row12_col8\" class=\"data row12 col8\" >0.0600</td>\n",
       "    </tr>\n",
       "    <tr>\n",
       "      <th id=\"T_cf010_level0_row13\" class=\"row_heading level0 row13\" >xgboost</th>\n",
       "      <td id=\"T_cf010_row13_col0\" class=\"data row13 col0\" >Extreme Gradient Boosting</td>\n",
       "      <td id=\"T_cf010_row13_col1\" class=\"data row13 col1\" >0.0000</td>\n",
       "      <td id=\"T_cf010_row13_col2\" class=\"data row13 col2\" >0.0000</td>\n",
       "      <td id=\"T_cf010_row13_col3\" class=\"data row13 col3\" >0.0000</td>\n",
       "      <td id=\"T_cf010_row13_col4\" class=\"data row13 col4\" >0.0000</td>\n",
       "      <td id=\"T_cf010_row13_col5\" class=\"data row13 col5\" >0.0000</td>\n",
       "      <td id=\"T_cf010_row13_col6\" class=\"data row13 col6\" >0.0000</td>\n",
       "      <td id=\"T_cf010_row13_col7\" class=\"data row13 col7\" >0.0000</td>\n",
       "      <td id=\"T_cf010_row13_col8\" class=\"data row13 col8\" >0.0100</td>\n",
       "    </tr>\n",
       "    <tr>\n",
       "      <th id=\"T_cf010_level0_row14\" class=\"row_heading level0 row14\" >lightgbm</th>\n",
       "      <td id=\"T_cf010_row14_col0\" class=\"data row14 col0\" >Light Gradient Boosting Machine</td>\n",
       "      <td id=\"T_cf010_row14_col1\" class=\"data row14 col1\" >0.0000</td>\n",
       "      <td id=\"T_cf010_row14_col2\" class=\"data row14 col2\" >0.0000</td>\n",
       "      <td id=\"T_cf010_row14_col3\" class=\"data row14 col3\" >0.0000</td>\n",
       "      <td id=\"T_cf010_row14_col4\" class=\"data row14 col4\" >0.0000</td>\n",
       "      <td id=\"T_cf010_row14_col5\" class=\"data row14 col5\" >0.0000</td>\n",
       "      <td id=\"T_cf010_row14_col6\" class=\"data row14 col6\" >0.0000</td>\n",
       "      <td id=\"T_cf010_row14_col7\" class=\"data row14 col7\" >0.0000</td>\n",
       "      <td id=\"T_cf010_row14_col8\" class=\"data row14 col8\" >0.0100</td>\n",
       "    </tr>\n",
       "  </tbody>\n",
       "</table>\n"
      ],
      "text/plain": [
       "<pandas.io.formats.style.Styler at 0x24f39887820>"
      ]
     },
     "metadata": {},
     "output_type": "display_data"
    }
   ],
   "source": [
    "top5 = compare_models(sort='AUC', fold=5, n_select = 5)"
   ]
  },
  {
   "cell_type": "markdown",
   "id": "64fb81dc",
   "metadata": {},
   "source": [
    "- Hyperparameter tuning"
   ]
  },
  {
   "cell_type": "code",
   "execution_count": 19,
   "id": "fc8f53b5",
   "metadata": {},
   "outputs": [
    {
     "data": {
      "text/html": [
       "<style type=\"text/css\">\n",
       "#T_fe53b_row10_col0, #T_fe53b_row10_col1, #T_fe53b_row10_col2, #T_fe53b_row10_col3, #T_fe53b_row10_col4, #T_fe53b_row10_col5, #T_fe53b_row10_col6 {\n",
       "  background: yellow;\n",
       "}\n",
       "</style>\n",
       "<table id=\"T_fe53b_\">\n",
       "  <thead>\n",
       "    <tr>\n",
       "      <th class=\"blank level0\" >&nbsp;</th>\n",
       "      <th class=\"col_heading level0 col0\" >Accuracy</th>\n",
       "      <th class=\"col_heading level0 col1\" >AUC</th>\n",
       "      <th class=\"col_heading level0 col2\" >Recall</th>\n",
       "      <th class=\"col_heading level0 col3\" >Prec.</th>\n",
       "      <th class=\"col_heading level0 col4\" >F1</th>\n",
       "      <th class=\"col_heading level0 col5\" >Kappa</th>\n",
       "      <th class=\"col_heading level0 col6\" >MCC</th>\n",
       "    </tr>\n",
       "  </thead>\n",
       "  <tbody>\n",
       "    <tr>\n",
       "      <th id=\"T_fe53b_level0_row0\" class=\"row_heading level0 row0\" >0</th>\n",
       "      <td id=\"T_fe53b_row0_col0\" class=\"data row0 col0\" >0.9687</td>\n",
       "      <td id=\"T_fe53b_row0_col1\" class=\"data row0 col1\" >0.9735</td>\n",
       "      <td id=\"T_fe53b_row0_col2\" class=\"data row0 col2\" >0.8045</td>\n",
       "      <td id=\"T_fe53b_row0_col3\" class=\"data row0 col3\" >0.8592</td>\n",
       "      <td id=\"T_fe53b_row0_col4\" class=\"data row0 col4\" >0.8310</td>\n",
       "      <td id=\"T_fe53b_row0_col5\" class=\"data row0 col5\" >0.8137</td>\n",
       "      <td id=\"T_fe53b_row0_col6\" class=\"data row0 col6\" >0.8143</td>\n",
       "    </tr>\n",
       "    <tr>\n",
       "      <th id=\"T_fe53b_level0_row1\" class=\"row_heading level0 row1\" >1</th>\n",
       "      <td id=\"T_fe53b_row1_col0\" class=\"data row1 col0\" >0.9669</td>\n",
       "      <td id=\"T_fe53b_row1_col1\" class=\"data row1 col1\" >0.9567</td>\n",
       "      <td id=\"T_fe53b_row1_col2\" class=\"data row1 col2\" >0.7318</td>\n",
       "      <td id=\"T_fe53b_row1_col3\" class=\"data row1 col3\" >0.9045</td>\n",
       "      <td id=\"T_fe53b_row1_col4\" class=\"data row1 col4\" >0.8090</td>\n",
       "      <td id=\"T_fe53b_row1_col5\" class=\"data row1 col5\" >0.7912</td>\n",
       "      <td id=\"T_fe53b_row1_col6\" class=\"data row1 col6\" >0.7965</td>\n",
       "    </tr>\n",
       "    <tr>\n",
       "      <th id=\"T_fe53b_level0_row2\" class=\"row_heading level0 row2\" >2</th>\n",
       "      <td id=\"T_fe53b_row2_col0\" class=\"data row2 col0\" >0.9595</td>\n",
       "      <td id=\"T_fe53b_row2_col1\" class=\"data row2 col1\" >0.9495</td>\n",
       "      <td id=\"T_fe53b_row2_col2\" class=\"data row2 col2\" >0.7273</td>\n",
       "      <td id=\"T_fe53b_row2_col3\" class=\"data row2 col3\" >0.8290</td>\n",
       "      <td id=\"T_fe53b_row2_col4\" class=\"data row2 col4\" >0.7748</td>\n",
       "      <td id=\"T_fe53b_row2_col5\" class=\"data row2 col5\" >0.7527</td>\n",
       "      <td id=\"T_fe53b_row2_col6\" class=\"data row2 col6\" >0.7546</td>\n",
       "    </tr>\n",
       "    <tr>\n",
       "      <th id=\"T_fe53b_level0_row3\" class=\"row_heading level0 row3\" >3</th>\n",
       "      <td id=\"T_fe53b_row3_col0\" class=\"data row3 col0\" >0.9648</td>\n",
       "      <td id=\"T_fe53b_row3_col1\" class=\"data row3 col1\" >0.9502</td>\n",
       "      <td id=\"T_fe53b_row3_col2\" class=\"data row3 col2\" >0.7091</td>\n",
       "      <td id=\"T_fe53b_row3_col3\" class=\"data row3 col3\" >0.9017</td>\n",
       "      <td id=\"T_fe53b_row3_col4\" class=\"data row3 col4\" >0.7939</td>\n",
       "      <td id=\"T_fe53b_row3_col5\" class=\"data row3 col5\" >0.7749</td>\n",
       "      <td id=\"T_fe53b_row3_col6\" class=\"data row3 col6\" >0.7816</td>\n",
       "    </tr>\n",
       "    <tr>\n",
       "      <th id=\"T_fe53b_level0_row4\" class=\"row_heading level0 row4\" >4</th>\n",
       "      <td id=\"T_fe53b_row4_col0\" class=\"data row4 col0\" >0.9682</td>\n",
       "      <td id=\"T_fe53b_row4_col1\" class=\"data row4 col1\" >0.9590</td>\n",
       "      <td id=\"T_fe53b_row4_col2\" class=\"data row4 col2\" >0.7591</td>\n",
       "      <td id=\"T_fe53b_row4_col3\" class=\"data row4 col3\" >0.8930</td>\n",
       "      <td id=\"T_fe53b_row4_col4\" class=\"data row4 col4\" >0.8206</td>\n",
       "      <td id=\"T_fe53b_row4_col5\" class=\"data row4 col5\" >0.8033</td>\n",
       "      <td id=\"T_fe53b_row4_col6\" class=\"data row4 col6\" >0.8065</td>\n",
       "    </tr>\n",
       "    <tr>\n",
       "      <th id=\"T_fe53b_level0_row5\" class=\"row_heading level0 row5\" >5</th>\n",
       "      <td id=\"T_fe53b_row5_col0\" class=\"data row5 col0\" >0.9674</td>\n",
       "      <td id=\"T_fe53b_row5_col1\" class=\"data row5 col1\" >0.9607</td>\n",
       "      <td id=\"T_fe53b_row5_col2\" class=\"data row5 col2\" >0.7352</td>\n",
       "      <td id=\"T_fe53b_row5_col3\" class=\"data row5 col3\" >0.9045</td>\n",
       "      <td id=\"T_fe53b_row5_col4\" class=\"data row5 col4\" >0.8111</td>\n",
       "      <td id=\"T_fe53b_row5_col5\" class=\"data row5 col5\" >0.7934</td>\n",
       "      <td id=\"T_fe53b_row5_col6\" class=\"data row5 col6\" >0.7985</td>\n",
       "    </tr>\n",
       "    <tr>\n",
       "      <th id=\"T_fe53b_level0_row6\" class=\"row_heading level0 row6\" >6</th>\n",
       "      <td id=\"T_fe53b_row6_col0\" class=\"data row6 col0\" >0.9643</td>\n",
       "      <td id=\"T_fe53b_row6_col1\" class=\"data row6 col1\" >0.9585</td>\n",
       "      <td id=\"T_fe53b_row6_col2\" class=\"data row6 col2\" >0.7123</td>\n",
       "      <td id=\"T_fe53b_row6_col3\" class=\"data row6 col3\" >0.8914</td>\n",
       "      <td id=\"T_fe53b_row6_col4\" class=\"data row6 col4\" >0.7919</td>\n",
       "      <td id=\"T_fe53b_row6_col5\" class=\"data row6 col5\" >0.7726</td>\n",
       "      <td id=\"T_fe53b_row6_col6\" class=\"data row6 col6\" >0.7784</td>\n",
       "    </tr>\n",
       "    <tr>\n",
       "      <th id=\"T_fe53b_level0_row7\" class=\"row_heading level0 row7\" >7</th>\n",
       "      <td id=\"T_fe53b_row7_col0\" class=\"data row7 col0\" >0.9721</td>\n",
       "      <td id=\"T_fe53b_row7_col1\" class=\"data row7 col1\" >0.9510</td>\n",
       "      <td id=\"T_fe53b_row7_col2\" class=\"data row7 col2\" >0.8045</td>\n",
       "      <td id=\"T_fe53b_row7_col3\" class=\"data row7 col3\" >0.8939</td>\n",
       "      <td id=\"T_fe53b_row7_col4\" class=\"data row7 col4\" >0.8469</td>\n",
       "      <td id=\"T_fe53b_row7_col5\" class=\"data row7 col5\" >0.8316</td>\n",
       "      <td id=\"T_fe53b_row7_col6\" class=\"data row7 col6\" >0.8330</td>\n",
       "    </tr>\n",
       "    <tr>\n",
       "      <th id=\"T_fe53b_level0_row8\" class=\"row_heading level0 row8\" >8</th>\n",
       "      <td id=\"T_fe53b_row8_col0\" class=\"data row8 col0\" >0.9569</td>\n",
       "      <td id=\"T_fe53b_row8_col1\" class=\"data row8 col1\" >0.9432</td>\n",
       "      <td id=\"T_fe53b_row8_col2\" class=\"data row8 col2\" >0.6500</td>\n",
       "      <td id=\"T_fe53b_row8_col3\" class=\"data row8 col3\" >0.8667</td>\n",
       "      <td id=\"T_fe53b_row8_col4\" class=\"data row8 col4\" >0.7429</td>\n",
       "      <td id=\"T_fe53b_row8_col5\" class=\"data row8 col5\" >0.7199</td>\n",
       "      <td id=\"T_fe53b_row8_col6\" class=\"data row8 col6\" >0.7287</td>\n",
       "    </tr>\n",
       "    <tr>\n",
       "      <th id=\"T_fe53b_level0_row9\" class=\"row_heading level0 row9\" >9</th>\n",
       "      <td id=\"T_fe53b_row9_col0\" class=\"data row9 col0\" >0.9678</td>\n",
       "      <td id=\"T_fe53b_row9_col1\" class=\"data row9 col1\" >0.9549</td>\n",
       "      <td id=\"T_fe53b_row9_col2\" class=\"data row9 col2\" >0.7545</td>\n",
       "      <td id=\"T_fe53b_row9_col3\" class=\"data row9 col3\" >0.8925</td>\n",
       "      <td id=\"T_fe53b_row9_col4\" class=\"data row9 col4\" >0.8177</td>\n",
       "      <td id=\"T_fe53b_row9_col5\" class=\"data row9 col5\" >0.8002</td>\n",
       "      <td id=\"T_fe53b_row9_col6\" class=\"data row9 col6\" >0.8036</td>\n",
       "    </tr>\n",
       "    <tr>\n",
       "      <th id=\"T_fe53b_level0_row10\" class=\"row_heading level0 row10\" >Mean</th>\n",
       "      <td id=\"T_fe53b_row10_col0\" class=\"data row10 col0\" >0.9657</td>\n",
       "      <td id=\"T_fe53b_row10_col1\" class=\"data row10 col1\" >0.9557</td>\n",
       "      <td id=\"T_fe53b_row10_col2\" class=\"data row10 col2\" >0.7388</td>\n",
       "      <td id=\"T_fe53b_row10_col3\" class=\"data row10 col3\" >0.8837</td>\n",
       "      <td id=\"T_fe53b_row10_col4\" class=\"data row10 col4\" >0.8040</td>\n",
       "      <td id=\"T_fe53b_row10_col5\" class=\"data row10 col5\" >0.7854</td>\n",
       "      <td id=\"T_fe53b_row10_col6\" class=\"data row10 col6\" >0.7896</td>\n",
       "    </tr>\n",
       "    <tr>\n",
       "      <th id=\"T_fe53b_level0_row11\" class=\"row_heading level0 row11\" >SD</th>\n",
       "      <td id=\"T_fe53b_row11_col0\" class=\"data row11 col0\" >0.0043</td>\n",
       "      <td id=\"T_fe53b_row11_col1\" class=\"data row11 col1\" >0.0078</td>\n",
       "      <td id=\"T_fe53b_row11_col2\" class=\"data row11 col2\" >0.0436</td>\n",
       "      <td id=\"T_fe53b_row11_col3\" class=\"data row11 col3\" >0.0232</td>\n",
       "      <td id=\"T_fe53b_row11_col4\" class=\"data row11 col4\" >0.0282</td>\n",
       "      <td id=\"T_fe53b_row11_col5\" class=\"data row11 col5\" >0.0304</td>\n",
       "      <td id=\"T_fe53b_row11_col6\" class=\"data row11 col6\" >0.0287</td>\n",
       "    </tr>\n",
       "  </tbody>\n",
       "</table>\n"
      ],
      "text/plain": [
       "<pandas.io.formats.style.Styler at 0x24f3987fb50>"
      ]
     },
     "metadata": {},
     "output_type": "display_data"
    }
   ],
   "source": [
    "#Extra Trees Classifier 모델 생성 -> 튜닝하면 성능 하락\n",
    "et = create_model('et')"
   ]
  },
  {
   "cell_type": "code",
   "execution_count": 10,
   "id": "c8f35eef",
   "metadata": {},
   "outputs": [],
   "source": [
    "# #rf -> 튜닝하면 성능 떨어짐\n",
    "# rf = create_model('rf')"
   ]
  },
  {
   "cell_type": "code",
   "execution_count": 11,
   "id": "bc5f6f74",
   "metadata": {},
   "outputs": [],
   "source": [
    "# #catboost -> 튜닝하면 성능향상\n",
    "# catboost = create_model('catboost')\n",
    "# #hyperparameter tuning\n",
    "# catboost = tune_model(catboost, optimize = 'AUC', choose_better = True, fold = 5, n_iter = 30)\n",
    "# #ensemble_model\n",
    "# # cat_boost = ensemble_model(catboost, method = 'Boosting', optimize = 'AUC')"
   ]
  },
  {
   "cell_type": "markdown",
   "id": "8d4439e6",
   "metadata": {},
   "source": [
    "### Ensemble"
   ]
  },
  {
   "cell_type": "markdown",
   "id": "d7c4f9f1",
   "metadata": {},
   "source": [
    "- blend model"
   ]
  },
  {
   "cell_type": "code",
   "execution_count": 25,
   "id": "68ffdba9",
   "metadata": {},
   "outputs": [],
   "source": [
    "# # 사용할 모델 수동으로 넣어줌\n",
    "# models = [\n",
    "#     catboost,\n",
    "#     et,\n",
    "#     rf\n",
    "# ]"
   ]
  },
  {
   "cell_type": "code",
   "execution_count": 12,
   "id": "929bb3ec",
   "metadata": {},
   "outputs": [],
   "source": [
    "# final_model = blend_models(estimator_list = models, method = 'soft', optimize = 'F1')\n",
    "# final_model = finalize_model(final_model) # 전체 데이터로 재학습"
   ]
  },
  {
   "cell_type": "markdown",
   "id": "b1a3017f",
   "metadata": {},
   "source": [
    "- Fit & predict"
   ]
  },
  {
   "cell_type": "code",
   "execution_count": 20,
   "id": "15746d3e",
   "metadata": {},
   "outputs": [],
   "source": [
    "model = et\n",
    "pred_holdout = predict_model(model, test)"
   ]
  },
  {
   "cell_type": "code",
   "execution_count": 21,
   "id": "dab301d5",
   "metadata": {},
   "outputs": [],
   "source": [
    "#pycaret에서는 score이 label을 맞출 확률이기때문에 output을 제출 양식에 맞게 바꿔줍니다\n",
    "pred = pd.Series([pred_holdout['Score'][i] if pred_holdout['Label'][i] =='1.0' else (1-pred_holdout['Score'][i]) for i in range(len(pred_holdout['Score']))]\n",
    ")"
   ]
  },
  {
   "cell_type": "code",
   "execution_count": 22,
   "id": "c55f2479",
   "metadata": {},
   "outputs": [],
   "source": [
    "submission['pred'] = pred"
   ]
  },
  {
   "cell_type": "markdown",
   "id": "c52bb0f4",
   "metadata": {},
   "source": [
    "### Make submission "
   ]
  },
  {
   "cell_type": "code",
   "execution_count": 23,
   "id": "fb4a7a09",
   "metadata": {},
   "outputs": [
    {
     "name": "stdout",
     "output_type": "stream",
     "text": [
      "'submission_11190046.csv' is ready to submit.\n"
     ]
    }
   ],
   "source": [
    "t = pd.Timestamp.now()\n",
    "fname = f'submission_{t.month:02}{t.day:02}{t.hour:02}{t.minute:02}.csv'\n",
    "# fname = 'submission_etpercentile.csv'\n",
    "submission.to_csv('../submission/'+fname, index=False)\n",
    "print(\"'{}' is ready to submit.\" .format(fname))"
   ]
  },
  {
   "cell_type": "code",
   "execution_count": 24,
   "id": "dfb7b998",
   "metadata": {},
   "outputs": [
    {
     "data": {
      "text/plain": [
       "(None, None, None)"
      ]
     },
     "execution_count": 24,
     "metadata": {},
     "output_type": "execute_result"
    }
   ],
   "source": [
    "beepsound(),beepsound(),beepsound()"
   ]
  },
  {
   "cell_type": "markdown",
   "id": "e2167eac",
   "metadata": {},
   "source": [
    "# END"
   ]
  }
 ],
 "metadata": {
  "kernelspec": {
   "display_name": "ML",
   "language": "python",
   "name": "ml"
  },
  "language_info": {
   "codemirror_mode": {
    "name": "ipython",
    "version": 3
   },
   "file_extension": ".py",
   "mimetype": "text/x-python",
   "name": "python",
   "nbconvert_exporter": "python",
   "pygments_lexer": "ipython3",
   "version": "3.8.11"
  }
 },
 "nbformat": 4,
 "nbformat_minor": 5
}
